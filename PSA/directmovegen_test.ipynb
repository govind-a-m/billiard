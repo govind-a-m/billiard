{
 "cells": [
  {
   "cell_type": "code",
   "execution_count": 1,
   "metadata": {},
   "outputs": [],
   "source": [
    "with open('table.txt','r') as f:\n",
    "    txt = f.read()"
   ]
  },
  {
   "cell_type": "code",
   "execution_count": 2,
   "metadata": {},
   "outputs": [
    {
     "data": {
      "text/plain": [
       "'{\"balls\":[{\"BallName\":\"CueBall\",\"x\":0.00828276202082634,\"y\":0.5354336500167847,\"z\":12.567085266113282},{\"BallName\":\"Ball1\",\"x\":-3.5696256160736086,\"y\":0.5354334115982056,\"z\":18.130979537963868},{\"BallName\":\"Ball2\",\"x\":0.07563720643520355,\"y\":0.5354326963424683,\"z\":14.936318397521973},{\"BallName\":\"Ball3\",\"x\":3.514976978302002,\"y\":0.5354326367378235,\"z\":18.182735443115236},{\"BallName\":\"Ball4\",\"x\":-1.3466126918792725,\"y\":0.5354322195053101,\"z\":14.417561531066895},{\"BallName\":\"Ball5\",\"x\":1.3669753074645997,\"y\":0.5354333519935608,\"z\":14.380244255065918},{\"BallName\":\"Ball6\",\"x\":0.019468165934085847,\"y\":0.535433292388916,\"z\":13.903142929077149}]}'"
      ]
     },
     "execution_count": 2,
     "metadata": {},
     "output_type": "execute_result"
    }
   ],
   "source": [
    "txt"
   ]
  },
  {
   "cell_type": "code",
   "execution_count": 3,
   "metadata": {},
   "outputs": [],
   "source": [
    "from TableManager import Table,TableManager"
   ]
  },
  {
   "cell_type": "code",
   "execution_count": 4,
   "metadata": {},
   "outputs": [],
   "source": [
    "import json"
   ]
  },
  {
   "cell_type": "code",
   "execution_count": 5,
   "metadata": {},
   "outputs": [],
   "source": [
    "tabledata = json.loads(txt)['balls']"
   ]
  },
  {
   "cell_type": "code",
   "execution_count": 6,
   "metadata": {},
   "outputs": [],
   "source": [
    "table = TableManager.new(tabledata)"
   ]
  },
  {
   "cell_type": "code",
   "execution_count": 7,
   "metadata": {},
   "outputs": [
    {
     "data": {
      "text/plain": [
       "balls:{'Ball1': Ball(Ball1,Point2D(-356962561607361/100000000000000, 181309795379639/10000000000000)), 'Ball2': Ball(Ball2,Point2D(189093016088009/2500000000000000, 7468159198761/500000000000)), 'Ball3': Ball(Ball3,Point2D(1757488489151/500000000000, 11364209651947/625000000000)), 'Ball4': Ball(Ball4,Point2D(-134661269187927/100000000000000, 144175615310669/10000000000000)), 'Ball5': Ball(Ball5,Point2D(6834876537323/5000000000000, 143802442550659/10000000000000)), 'Ball6': Ball(Ball6,Point2D(97340829670429/5000000000000000, 139031429290771/10000000000000))},cue:Ball(CueBall,Point2D(414138101041317/50000000000000000, 125670852661133/10000000000000)),table_id:1"
      ]
     },
     "execution_count": 7,
     "metadata": {},
     "output_type": "execute_result"
    }
   ],
   "source": [
    "table"
   ]
  },
  {
   "cell_type": "code",
   "execution_count": 8,
   "metadata": {},
   "outputs": [],
   "source": [
    "from PickPocket.MoveGenerator.DirectMoveGenerator import Strike,GenMoves"
   ]
  },
  {
   "cell_type": "code",
   "execution_count": 9,
   "metadata": {},
   "outputs": [],
   "source": [
    "strikes = []\n",
    "move_gen = GenMoves(table)"
   ]
  },
  {
   "cell_type": "code",
   "execution_count": 10,
   "metadata": {},
   "outputs": [],
   "source": [
    "for move in move_gen:\n",
    "    strikes.append(move)"
   ]
  },
  {
   "cell_type": "code",
   "execution_count": 11,
   "metadata": {},
   "outputs": [
    {
     "data": {
      "text/plain": [
       "cue:Ball(CueBall,Point2D(414138101041317/50000000000000000, 125670852661133/10000000000000)),pocket:Pocket(Point2D(749/80, 1539/80)),target:Ball(Ball1,Point2D(-356962561607361/100000000000000, 181309795379639/10000000000000)),ghostball:None,target_vec:None,aiming_vec:None,shotangle:None,valid:False"
      ]
     },
     "execution_count": 11,
     "metadata": {},
     "output_type": "execute_result"
    }
   ],
   "source": [
    "strikes[0]"
   ]
  },
  {
   "cell_type": "code",
   "execution_count": 12,
   "metadata": {},
   "outputs": [
    {
     "name": "stdout",
     "output_type": "stream",
     "text": [
      "cue:Ball(CueBall,Point2D(414138101041317/50000000000000000, 125670852661133/10000000000000)),pocket:Pocket(Point2D(749/80, 1539/80)),target:Ball(Ball1,Point2D(-356962561607361/100000000000000, 181309795379639/10000000000000)),ghostball:Point2D(-4.56598502090094, 18.0457273449591),target_vec:Segment2D(Point2D(749/80, 1539/80), Point2D(-4.56598502090094, 18.0457273449591)),aiming_vec:Segment2D(Point2D(414138101041317/50000000000000000, 125670852661133/10000000000000), Point2D(-4.56598502090094, 18.0457273449591)),shotangle:0.960473892212631,valid:False,aiming_vec_ag:2.2664745615150723\n",
      "cue:Ball(CueBall,Point2D(414138101041317/50000000000000000, 125670852661133/10000000000000)),pocket:Pocket(Point2D(749/80, 0)),target:Ball(Ball1,Point2D(-356962561607361/100000000000000, 181309795379639/10000000000000)),ghostball:Point2D(-4.15031141750404, 18.9451072920769),target_vec:Segment2D(Point2D(749/80, 0), Point2D(-4.15031141750404, 18.9451072920769)),aiming_vec:Segment2D(Point2D(414138101041317/50000000000000000, 125670852661133/10000000000000), Point2D(-4.15031141750404, 18.9451072920769)),shotangle:0.0417772799456548,valid:False,aiming_vec_ag:2.148589860401181\n",
      "cue:Ball(CueBall,Point2D(414138101041317/50000000000000000, 125670852661133/10000000000000)),pocket:Pocket(Point2D(749/80, -1539/80)),target:Ball(Ball1,Point2D(-356962561607361/100000000000000, 181309795379639/10000000000000)),ghostball:Point2D(-3.89666578098411, 19.0759899773429),target_vec:Segment2D(Point2D(749/80, -1539/80), Point2D(-3.89666578098411, 19.0759899773429)),aiming_vec:Segment2D(Point2D(414138101041317/50000000000000000, 125670852661133/10000000000000), Point2D(-3.89666578098411, 19.0759899773429)),shotangle:0.207205153160609,valid:False,aiming_vec_ag:2.1111712846623885\n",
      "cue:Ball(CueBall,Point2D(414138101041317/50000000000000000, 125670852661133/10000000000000)),pocket:Pocket(Point2D(-749/80, -1539/80)),target:Ball(Ball1,Point2D(-356962561607361/100000000000000, 181309795379639/10000000000000)),ghostball:Point2D(-3.41643503384081, 19.1191762013438),target_vec:Segment2D(Point2D(-749/80, -1539/80), Point2D(-3.41643503384081, 19.1191762013438)),aiming_vec:Segment2D(Point2D(414138101041317/50000000000000000, 125670852661133/10000000000000), Point2D(-3.41643503384081, 19.1191762013438)),shotangle:0.635431211130376,valid:False,aiming_vec_ag:2.0524313755757895\n",
      "cue:Ball(CueBall,Point2D(414138101041317/50000000000000000, 125670852661133/10000000000000)),pocket:Pocket(Point2D(-749/80, 0)),target:Ball(Ball1,Point2D(-356962561607361/100000000000000, 181309795379639/10000000000000)),ghostball:Point2D(-3.2652807010042, 19.0835414376174),target_vec:Segment2D(Point2D(-749/80, 0), Point2D(-3.2652807010042, 19.0835414376174)),aiming_vec:Segment2D(Point2D(414138101041317/50000000000000000, 125670852661133/10000000000000), Point2D(-3.2652807010042, 19.0835414376174)),shotangle:0.774779146046163,valid:False,aiming_vec_ag:2.0363248277028383\n",
      "cue:Ball(CueBall,Point2D(414138101041317/50000000000000000, 125670852661133/10000000000000)),pocket:Pocket(Point2D(-749/80, 1539/80)),target:Ball(Ball1,Point2D(-356962561607361/100000000000000, 181309795379639/10000000000000)),ghostball:Point2D(-2.58738429088072, 17.9433576333704),target_vec:Segment2D(Point2D(-749/80, 1539/80), Point2D(-2.58738429088072, 17.9433576333704)),aiming_vec:Segment2D(Point2D(414138101041317/50000000000000000, 125670852661133/10000000000000), Point2D(-2.58738429088072, 17.9433576333704)),shotangle:2.20933040638176,valid:False,aiming_vec_ag:2.020589913079327\n",
      "cue:Ball(CueBall,Point2D(414138101041317/50000000000000000, 125670852661133/10000000000000)),pocket:Pocket(Point2D(749/80, 1539/80)),target:Ball(Ball2,Point2D(189093016088009/2500000000000000, 7468159198761/500000000000)),ghostball:Point2D(-0.831766062152463, 14.5160573974799),target_vec:Segment2D(Point2D(749/80, 1539/80), Point2D(-0.831766062152463, 14.5160573974799)),aiming_vec:Segment2D(Point2D(414138101041317/50000000000000000, 125670852661133/10000000000000), Point2D(-0.831766062152463, 14.5160573974799)),shotangle:1.59756945415655,valid:False,aiming_vec_ag:1.977756134362248\n",
      "cue:Ball(CueBall,Point2D(414138101041317/50000000000000000, 125670852661133/10000000000000)),pocket:Pocket(Point2D(749/80, 0)),target:Ball(Ball2,Point2D(189093016088009/2500000000000000, 7468159198761/500000000000)),ghostball:Point2D(-0.452384030662261, 15.7855495634445),target_vec:Segment2D(Point2D(749/80, 0), Point2D(-0.452384030662261, 15.7855495634445)),aiming_vec:Segment2D(Point2D(414138101041317/50000000000000000, 125670852661133/10000000000000), Point2D(-0.452384030662261, 15.7855495634445)),shotangle:0.414101929541928,valid:False,aiming_vec_ag:1.7129632062676703\n",
      "cue:Ball(CueBall,Point2D(414138101041317/50000000000000000, 125670852661133/10000000000000)),pocket:Pocket(Point2D(749/80, -1539/80)),target:Ball(Ball2,Point2D(189093016088009/2500000000000000, 7468159198761/500000000000)),ghostball:Point2D(-0.186605665585392, 15.9013203022219),target_vec:Segment2D(Point2D(749/80, -1539/80), Point2D(-0.186605665585392, 15.9013203022219)),aiming_vec:Segment2D(Point2D(414138101041317/50000000000000000, 125670852661133/10000000000000), Point2D(-0.186605665585392, 15.9013203022219)),shotangle:0.206961399088590,valid:False,aiming_vec_ag:1.62918061428701\n",
      "cue:Ball(CueBall,Point2D(414138101041317/50000000000000000, 125670852661133/10000000000000)),pocket:Pocket(Point2D(-749/80, -1539/80)),target:Ball(Ball2,Point2D(189093016088009/2500000000000000, 7468159198761/500000000000)),ghostball:Point2D(0.34185129452773, 15.9002323248522),target_vec:Segment2D(Point2D(-749/80, -1539/80), Point2D(0.34185129452773, 15.9002323248522)),aiming_vec:Segment2D(Point2D(414138101041317/50000000000000000, 125670852661133/10000000000000), Point2D(0.34185129452773, 15.9002323248522)),shotangle:0.169719193413859,valid:False,aiming_vec_ag:1.4710522766095178\n",
      "cue:Ball(CueBall,Point2D(414138101041317/50000000000000000, 125670852661133/10000000000000)),pocket:Pocket(Point2D(-749/80, 0)),target:Ball(Ball2,Point2D(189093016088009/2500000000000000, 7468159198761/500000000000)),ghostball:Point2D(0.609819249174424, 15.7816878701285),target_vec:Segment2D(Point2D(-749/80, 0), Point2D(0.609819249174424, 15.7816878701285)),aiming_vec:Segment2D(Point2D(414138101041317/50000000000000000, 125670852661133/10000000000000), Point2D(0.609819249174424, 15.7816878701285)),shotangle:0.378553021396858,valid:False,aiming_vec_ag:1.3858094708687092\n",
      "cue:Ball(CueBall,Point2D(414138101041317/50000000000000000, 125670852661133/10000000000000)),pocket:Pocket(Point2D(-749/80, 1539/80)),target:Ball(Ball2,Point2D(189093016088009/2500000000000000, 7468159198761/500000000000)),ghostball:Point2D(0.98559939871401, 14.5216271767045),target_vec:Segment2D(Point2D(-749/80, 1539/80), Point2D(0.98559939871401, 14.5216271767045)),aiming_vec:Segment2D(Point2D(414138101041317/50000000000000000, 125670852661133/10000000000000), Point2D(0.98559939871401, 14.5216271767045)),shotangle:1.53473346527713,valid:False,aiming_vec_ag:1.107130020432711\n",
      "cue:Ball(CueBall,Point2D(414138101041317/50000000000000000, 125670852661133/10000000000000)),pocket:Pocket(Point2D(749/80, 1539/80)),target:Ball(Ball3,Point2D(1757488489151/500000000000, 11364209651947/625000000000)),ghostball:Point2D(2.53085857975262, 18.0052221263285),target_vec:Segment2D(Point2D(749/80, 1539/80), Point2D(2.53085857975262, 18.0052221263285)),aiming_vec:Segment2D(Point2D(414138101041317/50000000000000000, 125670852661133/10000000000000), Point2D(2.53085857975262, 18.0052221263285)),shotangle:2.18358162733667,valid:False,aiming_vec_ag:1.1364700856569812\n",
      "cue:Ball(CueBall,Point2D(414138101041317/50000000000000000, 125670852661133/10000000000000)),pocket:Pocket(Point2D(749/80, 0)),target:Ball(Ball3,Point2D(1757488489151/500000000000, 11364209651947/625000000000)),ghostball:Point2D(3.20882200765978, 19.1347171309386),target_vec:Segment2D(Point2D(749/80, 0), Point2D(3.20882200765978, 19.1347171309386)),aiming_vec:Segment2D(Point2D(414138101041317/50000000000000000, 125670852661133/10000000000000), Point2D(3.20882200765978, 19.1347171309386)),shotangle:0.764603779317677,valid:False,aiming_vec_ag:1.1173439682550699\n",
      "cue:Ball(CueBall,Point2D(414138101041317/50000000000000000, 125670852661133/10000000000000)),pocket:Pocket(Point2D(749/80, -1539/80)),target:Ball(Ball3,Point2D(1757488489151/500000000000, 11364209651947/625000000000)),ghostball:Point2D(3.36058434420898, 19.1707450152034),target_vec:Segment2D(Point2D(749/80, -1539/80), Point2D(3.36058434420898, 19.1707450152034)),aiming_vec:Segment2D(Point2D(414138101041317/50000000000000000, 125670852661133/10000000000000), Point2D(3.36058434420898, 19.1707450152034)),shotangle:0.624755976756788,valid:False,aiming_vec_ag:1.1010530369490499\n"
     ]
    },
    {
     "name": "stdout",
     "output_type": "stream",
     "text": [
      "cue:Ball(CueBall,Point2D(414138101041317/50000000000000000, 125670852661133/10000000000000)),pocket:Pocket(Point2D(-749/80, -1539/80)),target:Ball(Ball3,Point2D(1757488489151/500000000000, 11364209651947/625000000000)),ghostball:Point2D(3.84037923555623, 19.1283111254241),target_vec:Segment2D(Point2D(-749/80, -1539/80), Point2D(3.84037923555623, 19.1283111254241)),aiming_vec:Segment2D(Point2D(414138101041317/50000000000000000, 125670852661133/10000000000000), Point2D(3.84037923555623, 19.1283111254241)),shotangle:0.197173311541650,valid:False,aiming_vec_ag:1.0421859083882614\n",
      "cue:Ball(CueBall,Point2D(414138101041317/50000000000000000, 125670852661133/10000000000000)),pocket:Pocket(Point2D(-749/80, 0)),target:Ball(Ball3,Point2D(1757488489151/500000000000, 11364209651947/625000000000)),ghostball:Point2D(4.09293572166051, 18.9988014275646),target_vec:Segment2D(Point2D(-749/80, 0), Point2D(4.09293572166051, 18.9988014275646)),aiming_vec:Segment2D(Point2D(414138101041317/50000000000000000, 125670852661133/10000000000000), Point2D(4.09293572166051, 18.9988014275646)),shotangle:0.0504102400880778,valid:False,aiming_vec_ag:1.0049814360724296\n",
      "cue:Ball(CueBall,Point2D(414138101041317/50000000000000000, 125670852661133/10000000000000)),pocket:Pocket(Point2D(-749/80, 1539/80)),target:Ball(Ball3,Point2D(1757488489151/500000000000, 11364209651947/625000000000)),ghostball:Point2D(4.51163932696321, 18.1011011196898),target_vec:Segment2D(Point2D(-749/80, 1539/80), Point2D(4.51163932696321, 18.1011011196898)),aiming_vec:Segment2D(Point2D(414138101041317/50000000000000000, 125670852661133/10000000000000), Point2D(4.51163932696321, 18.1011011196898)),shotangle:0.969446996234642,valid:False,aiming_vec_ag:0.8877217290793454\n",
      "cue:Ball(CueBall,Point2D(414138101041317/50000000000000000, 125670852661133/10000000000000)),pocket:Pocket(Point2D(749/80, 1539/80)),target:Ball(Ball4,Point2D(-134661269187927/100000000000000, 144175615310669/10000000000000)),ghostball:Point2D(-2.25850749968668, 14.0071375314106),target_vec:Segment2D(Point2D(749/80, 1539/80), Point2D(-2.25850749968668, 14.0071375314106)),aiming_vec:Segment2D(Point2D(414138101041317/50000000000000000, 125670852661133/10000000000000), Point2D(-2.25850749968668, 14.0071375314106)),shotangle:0.988878330472352,valid:False,aiming_vec_ag:2.5756333022133076\n",
      "cue:Ball(CueBall,Point2D(414138101041317/50000000000000000, 125670852661133/10000000000000)),pocket:Pocket(Point2D(749/80, 0)),target:Ball(Ball4,Point2D(-134661269187927/100000000000000, 144175615310669/10000000000000)),ghostball:Point2D(-1.94289808996862, 15.2203340542797),target_vec:Segment2D(Point2D(749/80, 0), Point2D(-1.94289808996862, 15.2203340542797)),aiming_vec:Segment2D(Point2D(414138101041317/50000000000000000, 125670852661133/10000000000000), Point2D(-1.94289808996862, 15.2203340542797)),shotangle:0.00477893313906141,valid:False,aiming_vec_ag:2.2048832903949185\n",
      "cue:Ball(CueBall,Point2D(414138101041317/50000000000000000, 125670852661133/10000000000000)),pocket:Pocket(Point2D(749/80, -1539/80)),target:Ball(Ball4,Point2D(-134661269187927/100000000000000, 144175615310669/10000000000000)),ghostball:Point2D(-1.64983393623294, 15.3704817150134),target_vec:Segment2D(Point2D(749/80, -1539/80), Point2D(-1.64983393623294, 15.3704817150134)),aiming_vec:Segment2D(Point2D(414138101041317/50000000000000000, 125670852661133/10000000000000), Point2D(-1.64983393623294, 15.3704817150134)),shotangle:0.226050428497732,valid:False,aiming_vec_ag:2.1049179922431165\n",
      "cue:Ball(CueBall,Point2D(414138101041317/50000000000000000, 125670852661133/10000000000000)),pocket:Pocket(Point2D(-749/80, -1539/80)),target:Ball(Ball4,Point2D(-134661269187927/100000000000000, 144175615310669/10000000000000)),ghostball:Point2D(-1.1149161917915, 15.3903496538599),target_vec:Segment2D(Point2D(-749/80, -1539/80), Point2D(-1.1149161917915, 15.3903496538599)),aiming_vec:Segment2D(Point2D(414138101041317/50000000000000000, 125670852661133/10000000000000), Point2D(-1.1149161917915, 15.3903496538599)),shotangle:0.612461585818005,valid:False,aiming_vec_ag:1.9494366344960494\n",
      "cue:Ball(CueBall,Point2D(414138101041317/50000000000000000, 125670852661133/10000000000000)),pocket:Pocket(Point2D(-749/80, 0)),target:Ball(Ball4,Point2D(-134661269187927/100000000000000, 144175615310669/10000000000000)),ghostball:Point2D(-0.860685783367404, 15.2915609816297),target_vec:Segment2D(Point2D(-749/80, 0), Point2D(-0.860685783367404, 15.2915609816297)),aiming_vec:Segment2D(Point2D(414138101041317/50000000000000000, 125670852661133/10000000000000), Point2D(-0.860685783367404, 15.2915609816297)),shotangle:0.816172585062589,valid:False,aiming_vec_ag:1.879545519740379\n",
      "cue:Ball(CueBall,Point2D(414138101041317/50000000000000000, 125670852661133/10000000000000)),pocket:Pocket(Point2D(-749/80, 1539/80)),target:Ball(Ball4,Point2D(-134661269187927/100000000000000, 144175615310669/10000000000000)),ghostball:Point2D(-0.489610984856622, 13.9022479622952),target_vec:Segment2D(Point2D(-749/80, 1539/80), Point2D(-0.489610984856622, 13.9022479622952)),aiming_vec:Segment2D(Point2D(414138101041317/50000000000000000, 125670852661133/10000000000000), Point2D(-0.489610984856622, 13.9022479622952)),shotangle:2.46910574338621,valid:False,aiming_vec_ag:1.927732243882759\n",
      "cue:Ball(CueBall,Point2D(414138101041317/50000000000000000, 125670852661133/10000000000000)),pocket:Pocket(Point2D(749/80, 1539/80)),target:Ball(Ball5,Point2D(6834876537323/5000000000000, 143802442550659/10000000000000)),ghostball:Point2D(0.512322017759753, 13.8610451079203),target_vec:Segment2D(Point2D(749/80, 1539/80), Point2D(0.512322017759753, 13.8610451079203)),aiming_vec:Segment2D(Point2D(414138101041317/50000000000000000, 125670852661133/10000000000000), Point2D(0.512322017759753, 13.8610451079203)),shotangle:2.48816008449490,valid:False,aiming_vec_ag:1.1993462028039559\n",
      "cue:Ball(CueBall,Point2D(414138101041317/50000000000000000, 125670852661133/10000000000000)),pocket:Pocket(Point2D(749/80, 0)),target:Ball(Ball5,Point2D(6834876537323/5000000000000, 143802442550659/10000000000000)),ghostball:Point2D(0.881030521606431, 15.2542337659282),target_vec:Segment2D(Point2D(749/80, 0), Point2D(0.881030521606431, 15.2542337659282)),aiming_vec:Segment2D(Point2D(414138101041317/50000000000000000, 125670852661133/10000000000000), Point2D(0.881030521606431, 15.2542337659282)),shotangle:0.821482025585454,valid:False,aiming_vec_ag:1.2567581480853562\n",
      "cue:Ball(CueBall,Point2D(414138101041317/50000000000000000, 125670852661133/10000000000000)),pocket:Pocket(Point2D(749/80, -1539/80)),target:Ball(Ball5,Point2D(6834876537323/5000000000000, 143802442550659/10000000000000)),ghostball:Point2D(1.13559305279077, 15.3531071704975),target_vec:Segment2D(Point2D(749/80, -1539/80), Point2D(1.13559305279077, 15.3531071704975)),aiming_vec:Segment2D(Point2D(414138101041317/50000000000000000, 125670852661133/10000000000000), Point2D(1.13559305279077, 15.3531071704975)),shotangle:0.617990320994971,valid:False,aiming_vec_ag:1.1863042605122334\n",
      "cue:Ball(CueBall,Point2D(414138101041317/50000000000000000, 125670852661133/10000000000000)),pocket:Pocket(Point2D(-749/80, -1539/80)),target:Ball(Ball5,Point2D(6834876537323/5000000000000, 143802442550659/10000000000000)),ghostball:Point2D(1.67102597410915, 15.3329001174386),target_vec:Segment2D(Point2D(-749/80, -1539/80), Point2D(1.67102597410915, 15.3329001174386)),aiming_vec:Segment2D(Point2D(414138101041317/50000000000000000, 125670852661133/10000000000000), Point2D(1.67102597410915, 15.3329001174386)),shotangle:0.232342451603155,valid:False,aiming_vec_ag:1.0295121169727774\n",
      "cue:Ball(CueBall,Point2D(414138101041317/50000000000000000, 125670852661133/10000000000000)),pocket:Pocket(Point2D(-749/80, 0)),target:Ball(Ball5,Point2D(6834876537323/5000000000000, 143802442550659/10000000000000)),ghostball:Point2D(1.96498632168563, 15.1817321382372),target_vec:Segment2D(Point2D(-749/80, 0), Point2D(1.96498632168563, 15.1817321382372)),aiming_vec:Segment2D(Point2D(414138101041317/50000000000000000, 125670852661133/10000000000000), Point2D(1.96498632168563, 15.1817321382372)),shotangle:0.00143507007835632,valid:False,aiming_vec_ag:0.928344069003481\n",
      "cue:Ball(CueBall,Point2D(414138101041317/50000000000000000, 125670852661133/10000000000000)),pocket:Pocket(Point2D(-749/80, 1539/80)),target:Ball(Ball5,Point2D(6834876537323/5000000000000, 143802442550659/10000000000000)),ghostball:Point2D(2.27797333948069, 13.9678335548376),target_vec:Segment2D(Point2D(-749/80, 1539/80), Point2D(2.27797333948069, 13.9678335548376)),aiming_vec:Segment2D(Point2D(414138101041317/50000000000000000, 125670852661133/10000000000000), Point2D(2.27797333948069, 13.9678335548376)),shotangle:0.978035938248996,valid:False,aiming_vec_ag:0.5529372371837481\n",
      "cue:Ball(CueBall,Point2D(414138101041317/50000000000000000, 125670852661133/10000000000000)),pocket:Pocket(Point2D(749/80, 1539/80)),target:Ball(Ball6,Point2D(97340829670429/5000000000000000, 139031429290771/10000000000000)),ghostball:Point2D(-0.848955827461129, 13.4073206144366),target_vec:Segment2D(Point2D(749/80, 1539/80), Point2D(-0.848955827461129, 13.4073206144366)),aiming_vec:Segment2D(Point2D(414138101041317/50000000000000000, 125670852661133/10000000000000), Point2D(-0.848955827461129, 13.4073206144366)),shotangle:1.29416318820023,valid:False,aiming_vec_ag:2.3662109459002334\n"
     ]
    },
    {
     "name": "stdout",
     "output_type": "stream",
     "text": [
      "cue:Ball(CueBall,Point2D(414138101041317/50000000000000000, 125670852661133/10000000000000)),pocket:Pocket(Point2D(749/80, 0)),target:Ball(Ball6,Point2D(97340829670429/5000000000000000, 139031429290771/10000000000000)),ghostball:Point2D(-0.538297815265524, 14.7331411882418),target_vec:Segment2D(Point2D(749/80, 0), Point2D(-0.538297815265524, 14.7331411882418)),aiming_vec:Segment2D(Point2D(414138101041317/50000000000000000, 125670852661133/10000000000000), Point2D(-0.538297815265524, 14.7331411882418)),shotangle:0.344512819751608,valid:False,aiming_vec_ag:1.8179752705625467\n",
      "cue:Ball(CueBall,Point2D(414138101041317/50000000000000000, 125670852661133/10000000000000)),pocket:Pocket(Point2D(749/80, -1539/80)),target:Ball(Ball6,Point2D(97340829670429/5000000000000000, 139031429290771/10000000000000)),ghostball:Point2D(-0.251875537640206, 14.8656254455576),target_vec:Segment2D(Point2D(749/80, -1539/80), Point2D(-0.251875537640206, 14.8656254455576)),aiming_vec:Segment2D(Point2D(414138101041317/50000000000000000, 125670852661133/10000000000000), Point2D(-0.251875537640206, 14.8656254455576)),shotangle:0.162084335101586,valid:False,aiming_vec_ag:1.6835008300053227\n",
      "cue:Ball(CueBall,Point2D(414138101041317/50000000000000000, 125670852661133/10000000000000)),pocket:Pocket(Point2D(-749/80, -1539/80)),target:Ball(Ball6,Point2D(97340829670429/5000000000000000, 139031429290771/10000000000000)),ghostball:Point2D(0.291858931864173, 14.8653296420575),target_vec:Segment2D(Point2D(-749/80, -1539/80), Point2D(0.291858931864173, 14.8653296420575)),aiming_vec:Segment2D(Point2D(414138101041317/50000000000000000, 125670852661133/10000000000000), Point2D(0.291858931864173, 14.8653296420575)),shotangle:0.153109232894343,valid:False,aiming_vec_ag:1.448028677534191\n",
      "cue:Ball(CueBall,Point2D(414138101041317/50000000000000000, 125670852661133/10000000000000)),pocket:Pocket(Point2D(-749/80, 0)),target:Ball(Ball6,Point2D(97340829670429/5000000000000000, 139031429290771/10000000000000)),ghostball:Point2D(0.578832338692167, 14.7320649532957),target_vec:Segment2D(Point2D(-749/80, 0), Point2D(0.578832338692167, 14.7320649532957)),aiming_vec:Segment2D(Point2D(414138101041317/50000000000000000, 125670852661133/10000000000000), Point2D(0.578832338692167, 14.7320649532957)),shotangle:0.335941469873709,valid:False,aiming_vec_ag:1.3131192485050944\n",
      "cue:Ball(CueBall,Point2D(414138101041317/50000000000000000, 125670852661133/10000000000000)),pocket:Pocket(Point2D(-749/80, 1539/80)),target:Ball(Ball6,Point2D(97340829670429/5000000000000000, 139031429290771/10000000000000)),ghostball:Point2D(0.888777696489852, 13.408874843839),target_vec:Segment2D(Point2D(-749/80, 1539/80), Point2D(0.888777696489852, 13.408874843839)),aiming_vec:Segment2D(Point2D(414138101041317/50000000000000000, 125670852661133/10000000000000), Point2D(0.888777696489852, 13.408874843839)),shotangle:1.27992136068812,valid:False,aiming_vec_ag:0.7629286803204094\n"
     ]
    }
   ],
   "source": [
    "for strike in strikes:\n",
    "    strike.CalcShotAngle()\n",
    "    print(strike)"
   ]
  },
  {
   "cell_type": "code",
   "execution_count": 20,
   "metadata": {},
   "outputs": [
    {
     "data": {
      "text/latex": [
       "$\\displaystyle Segment3D\\left(Point3D\\left(\\frac{31}{50}, \\frac{43941}{1000}, 0\\right), Point3D\\left(\\frac{414138101041317}{50000000000000000}, \\frac{107086730003357}{200000000000000}, \\frac{125670852661133}{10000000000000}\\right)\\right)$"
      ],
      "text/plain": [
       "Segment3D(Point3D(31/50, 43941/1000, 0), Point3D(414138101041317/50000000000000000, 107086730003357/200000000000000, 125670852661133/10000000000000))"
      ]
     },
     "execution_count": 20,
     "metadata": {},
     "output_type": "execute_result"
    }
   ],
   "source": [
    "strike.target_vec"
   ]
  },
  {
   "cell_type": "code",
   "execution_count": 14,
   "metadata": {},
   "outputs": [
    {
     "data": {
      "text/latex": [
       "$\\displaystyle Segment3D\\left(Point3D\\left(\\frac{414138101041317}{50000000000000000}, \\frac{107086730003357}{200000000000000}, \\frac{125670852661133}{10000000000000}\\right), Point3D\\left(- \\frac{256962561607361}{100000000000000}, \\frac{267716705799103}{250000000000000}, \\frac{171309795379639}{10000000000000}\\right)\\right)$"
      ],
      "text/plain": [
       "Segment3D(Point3D(414138101041317/50000000000000000, 107086730003357/200000000000000, 125670852661133/10000000000000), Point3D(-256962561607361/100000000000000, 267716705799103/250000000000000, 171309795379639/10000000000000))"
      ]
     },
     "execution_count": 14,
     "metadata": {},
     "output_type": "execute_result"
    }
   ],
   "source": [
    "strike.aiming_vec"
   ]
  },
  {
   "cell_type": "code",
   "execution_count": 21,
   "metadata": {},
   "outputs": [
    {
     "data": {
      "text/latex": [
       "$\\displaystyle 1.42033917738953$"
      ],
      "text/plain": [
       "1.42033917738953"
      ]
     },
     "execution_count": 21,
     "metadata": {},
     "output_type": "execute_result"
    }
   ],
   "source": [
    "strike.shotangle"
   ]
  },
  {
   "cell_type": "code",
   "execution_count": 15,
   "metadata": {},
   "outputs": [
    {
     "data": {
      "text/plain": [
       "Ball(Ball1,Point3D(-356962561607361/100000000000000, 267716705799103/500000000000000, 181309795379639/10000000000000))"
      ]
     },
     "execution_count": 15,
     "metadata": {},
     "output_type": "execute_result"
    }
   ],
   "source": [
    "strike.target"
   ]
  },
  {
   "cell_type": "code",
   "execution_count": 16,
   "metadata": {},
   "outputs": [
    {
     "data": {
      "text/plain": [
       "'shotangle not valid'"
      ]
     },
     "execution_count": 16,
     "metadata": {},
     "output_type": "execute_result"
    }
   ],
   "source": [
    "strike.CheckValidity(table)"
   ]
  },
  {
   "cell_type": "code",
   "execution_count": 16,
   "metadata": {},
   "outputs": [
    {
     "data": {
      "text/plain": [
       "1.7104226669544431"
      ]
     },
     "execution_count": 16,
     "metadata": {},
     "output_type": "execute_result"
    }
   ],
   "source": [
    "strike.MIN_AngleOfStrike"
   ]
  },
  {
   "cell_type": "code",
   "execution_count": 88,
   "metadata": {},
   "outputs": [],
   "source": [
    "from sympy import Line"
   ]
  },
  {
   "cell_type": "code",
   "execution_count": 13,
   "metadata": {},
   "outputs": [
    {
     "name": "stdout",
     "output_type": "stream",
     "text": [
      "shotangle not valid\n",
      "shotangle not valid\n",
      "shotangle not valid\n",
      "shotangle not valid\n",
      "shotangle not valid\n",
      "Ball4 adda ide\n",
      "shotangle not valid\n",
      "shotangle not valid\n",
      "shotangle not valid\n",
      "shotangle not valid\n",
      "shotangle not valid\n",
      "shotangle not valid\n",
      "Ball2 adda ide\n",
      "shotangle not valid\n",
      "shotangle not valid\n",
      "shotangle not valid\n",
      "shotangle not valid\n",
      "shotangle not valid\n",
      "shotangle not valid\n",
      "shotangle not valid\n",
      "shotangle not valid\n",
      "shotangle not valid\n",
      "shotangle not valid\n",
      "Ball2 adda ide\n",
      "Ball2 adda ide\n",
      "shotangle not valid\n",
      "shotangle not valid\n",
      "shotangle not valid\n",
      "shotangle not valid\n",
      "shotangle not valid\n",
      "shotangle not valid\n",
      "shotangle not valid\n",
      "shotangle not valid\n",
      "shotangle not valid\n",
      "shotangle not valid\n",
      "shotangle not valid\n"
     ]
    }
   ],
   "source": [
    "for strike in strikes:\n",
    "    print(strike.CheckValidity(table))"
   ]
  },
  {
   "cell_type": "code",
   "execution_count": 14,
   "metadata": {},
   "outputs": [
    {
     "name": "stdout",
     "output_type": "stream",
     "text": [
      "Ball2 Point2D(189093016088009/2500000000000000, 7468159198761/500000000000)\n",
      "Ball3 Point2D(1757488489151/500000000000, 11364209651947/625000000000)\n",
      "Ball4 Point2D(-134661269187927/100000000000000, 144175615310669/10000000000000)\n",
      "Ball5 Point2D(6834876537323/5000000000000, 143802442550659/10000000000000)\n",
      "Ball6 Point2D(97340829670429/5000000000000000, 139031429290771/10000000000000)\n"
     ]
    }
   ],
   "source": [
    "for ball in table.balls.values():\n",
    "    if ball.BallName!=strike.target.BallName:\n",
    "        print(ball.BallName,ball.loc)\n",
    "        norm_aiming_line = strike.aiming_vec.perpendicular_line(ball.loc)\n",
    "        intersect_norm_aim = norm_aiming_line.intersection(strike.aiming_vec)\n",
    "        "
   ]
  },
  {
   "cell_type": "code",
   "execution_count": 31,
   "metadata": {},
   "outputs": [],
   "source": [
    "ball = table.balls['Ball2']"
   ]
  },
  {
   "cell_type": "code",
   "execution_count": 33,
   "metadata": {},
   "outputs": [],
   "source": [
    "p = strike.aiming_vec.perpendicular_line(ball.loc)"
   ]
  },
  {
   "cell_type": "code",
   "execution_count": 39,
   "metadata": {},
   "outputs": [
    {
     "data": {
      "text/latex": [
       "$\\displaystyle Line3D\\left(Point3D\\left(\\frac{414138101041317}{50000000000000000}, \\frac{107086730003357}{200000000000000}, \\frac{125670852661133}{10000000000000}\\right), Point3D\\left(-2.58738458533639, 0.534659099883252, 17.9433576896155\\right)\\right)$"
      ],
      "text/plain": [
       "Line3D(Point3D(414138101041317/50000000000000000, 107086730003357/200000000000000, 125670852661133/10000000000000), Point3D(-2.58738458533639, 0.534659099883252, 17.9433576896155))"
      ]
     },
     "execution_count": 39,
     "metadata": {},
     "output_type": "execute_result"
    }
   ],
   "source": [
    "strike.aiming_vec"
   ]
  },
  {
   "cell_type": "code",
   "execution_count": 18,
   "metadata": {},
   "outputs": [],
   "source": [
    "import sympy"
   ]
  },
  {
   "cell_type": "code",
   "execution_count": null,
   "metadata": {},
   "outputs": [],
   "source": []
  },
  {
   "cell_type": "code",
   "execution_count": 25,
   "metadata": {},
   "outputs": [
    {
     "data": {
      "text/plain": [
       "float"
      ]
     },
     "execution_count": 25,
     "metadata": {},
     "output_type": "execute_result"
    }
   ],
   "source": [
    "type(float(sympy.pi.evalf()))"
   ]
  },
  {
   "cell_type": "code",
   "execution_count": 23,
   "metadata": {},
   "outputs": [
    {
     "data": {
      "text/plain": [
       "float"
      ]
     },
     "execution_count": 23,
     "metadata": {},
     "output_type": "execute_result"
    }
   ],
   "source": [
    "type(3.2)"
   ]
  },
  {
   "cell_type": "code",
   "execution_count": 2,
   "metadata": {},
   "outputs": [],
   "source": [
    "import math"
   ]
  },
  {
   "cell_type": "code",
   "execution_count": 13,
   "metadata": {},
   "outputs": [
    {
     "data": {
      "text/plain": [
       "0.7853981633974483"
      ]
     },
     "execution_count": 13,
     "metadata": {},
     "output_type": "execute_result"
    }
   ],
   "source": [
    "math.atan(-1/-1)"
   ]
  },
  {
   "cell_type": "code",
   "execution_count": 5,
   "metadata": {},
   "outputs": [
    {
     "data": {
      "text/plain": [
       "0.7853981633974483"
      ]
     },
     "execution_count": 5,
     "metadata": {},
     "output_type": "execute_result"
    }
   ],
   "source": [
    "math.pi/4"
   ]
  },
  {
   "cell_type": "code",
   "execution_count": 18,
   "metadata": {},
   "outputs": [
    {
     "data": {
      "text/plain": [
       "143.89020575726502"
      ]
     },
     "execution_count": 18,
     "metadata": {},
     "output_type": "execute_result"
    }
   ],
   "source": [
    "2.51008470043229*180/3.14"
   ]
  },
  {
   "cell_type": "code",
   "execution_count": 19,
   "metadata": {},
   "outputs": [],
   "source": [
    "#\"x\":-2.8579154014587404,\"y\":0.5354332327842712,\"z\":16.704933166503908"
   ]
  },
  {
   "cell_type": "code",
   "execution_count": 20,
   "metadata": {},
   "outputs": [],
   "source": [
    "cx = -2.8579154014587404\n",
    "cz = 16.704933166503908\n",
    "px = 749/80\n",
    "pz = 0"
   ]
  },
  {
   "cell_type": "code",
   "execution_count": 26,
   "metadata": {},
   "outputs": [],
   "source": [
    "p1 = [2.135961,1.489037]\n",
    "p2 = [2.382123,2.389284]"
   ]
  },
  {
   "cell_type": "code",
   "execution_count": 27,
   "metadata": {},
   "outputs": [],
   "source": [
    "p = [p2[0]-p1[0],p2[1]-p1[1]]"
   ]
  },
  {
   "cell_type": "code",
   "execution_count": 28,
   "metadata": {},
   "outputs": [
    {
     "data": {
      "text/plain": [
       "[0.246162, 0.900247]"
      ]
     },
     "execution_count": 28,
     "metadata": {},
     "output_type": "execute_result"
    }
   ],
   "source": [
    "p"
   ]
  },
  {
   "cell_type": "code",
   "execution_count": 4,
   "metadata": {},
   "outputs": [],
   "source": [
    "import math"
   ]
  },
  {
   "cell_type": "code",
   "execution_count": 29,
   "metadata": {},
   "outputs": [
    {
     "data": {
      "text/plain": [
       "1.3038826044316045"
      ]
     },
     "execution_count": 29,
     "metadata": {},
     "output_type": "execute_result"
    }
   ],
   "source": [
    "math.atan(p[1]/p[0])"
   ]
  },
  {
   "cell_type": "code",
   "execution_count": 30,
   "metadata": {},
   "outputs": [
    {
     "data": {
      "text/plain": [
       "74.70697021445675"
      ]
     },
     "execution_count": 30,
     "metadata": {},
     "output_type": "execute_result"
    }
   ],
   "source": [
    "1.3038826044316045*180/math.pi"
   ]
  },
  {
   "cell_type": "code",
   "execution_count": 31,
   "metadata": {},
   "outputs": [
    {
     "data": {
      "text/plain": [
       "1.354234318171869"
      ]
     },
     "execution_count": 31,
     "metadata": {},
     "output_type": "execute_result"
    }
   ],
   "source": [
    "2.66659586520638-1.312361547034511"
   ]
  },
  {
   "cell_type": "code",
   "execution_count": 32,
   "metadata": {},
   "outputs": [
    {
     "data": {
      "text/plain": [
       "1.8292311065552822"
      ]
     },
     "execution_count": 32,
     "metadata": {},
     "output_type": "execute_result"
    }
   ],
   "source": [
    "math.pi-1.312361547034511"
   ]
  },
  {
   "cell_type": "code",
   "execution_count": 33,
   "metadata": {},
   "outputs": [
    {
     "data": {
      "text/plain": [
       "0.8373647586510977"
      ]
     },
     "execution_count": 33,
     "metadata": {},
     "output_type": "execute_result"
    }
   ],
   "source": [
    "2.66659586520638-(math.pi-1.312361547034511)"
   ]
  },
  {
   "cell_type": "code",
   "execution_count": 34,
   "metadata": {},
   "outputs": [],
   "source": [
    "def langle(p1,p2):\n",
    "    p = [p2[0]-p1[0],p2[1]-p1[1]]\n",
    "    return math.atan(p[1]/p[0])"
   ]
  },
  {
   "cell_type": "code",
   "execution_count": 35,
   "metadata": {},
   "outputs": [
    {
     "data": {
      "text/plain": [
       "-0.5212359261951637"
      ]
     },
     "execution_count": 35,
     "metadata": {},
     "output_type": "execute_result"
    }
   ],
   "source": [
    "langle([5.009562,5.449656],[5.656494,5.078185])"
   ]
  },
  {
   "cell_type": "code",
   "execution_count": 36,
   "metadata": {},
   "outputs": [],
   "source": [
    "gx = 41719651222229/12500000000000\n",
    "gz = 341782259941101/50000000000000"
   ]
  },
  {
   "cell_type": "code",
   "execution_count": 37,
   "metadata": {},
   "outputs": [
    {
     "data": {
      "text/plain": [
       "3.33757209777832"
      ]
     },
     "execution_count": 37,
     "metadata": {},
     "output_type": "execute_result"
    }
   ],
   "source": [
    "gx"
   ]
  },
  {
   "cell_type": "code",
   "execution_count": 38,
   "metadata": {},
   "outputs": [
    {
     "data": {
      "text/plain": [
       "6.83564519882202"
      ]
     },
     "execution_count": 38,
     "metadata": {},
     "output_type": "execute_result"
    }
   ],
   "source": [
    "gz"
   ]
  },
  {
   "cell_type": "code",
   "execution_count": 39,
   "metadata": {},
   "outputs": [
    {
     "data": {
      "text/plain": [
       "0.8672600977783205"
      ]
     },
     "execution_count": 39,
     "metadata": {},
     "output_type": "execute_result"
    }
   ],
   "source": [
    "4.33757209777832-3.470312"
   ]
  },
  {
   "cell_type": "code",
   "execution_count": 40,
   "metadata": {},
   "outputs": [],
   "source": [
    "from sympy import Point,Segment"
   ]
  },
  {
   "cell_type": "code",
   "execution_count": 41,
   "metadata": {},
   "outputs": [],
   "source": [
    "s1 = Segment((0,0),(5,5))"
   ]
  },
  {
   "cell_type": "code",
   "execution_count": 66,
   "metadata": {},
   "outputs": [
    {
     "ename": "AttributeError",
     "evalue": "'Segment2D' object has no attribute 'evalf'",
     "output_type": "error",
     "traceback": [
      "\u001b[1;31m---------------------------------------------------------------------------\u001b[0m",
      "\u001b[1;31mAttributeError\u001b[0m                            Traceback (most recent call last)",
      "\u001b[1;32m<ipython-input-66-9416f37faa24>\u001b[0m in \u001b[0;36m<module>\u001b[1;34m\u001b[0m\n\u001b[1;32m----> 1\u001b[1;33m \u001b[0ms1\u001b[0m\u001b[1;33m.\u001b[0m\u001b[0mperpendicular_segment\u001b[0m\u001b[1;33m(\u001b[0m\u001b[1;33m(\u001b[0m\u001b[1;36m10\u001b[0m\u001b[1;33m,\u001b[0m\u001b[1;36m0\u001b[0m\u001b[1;33m)\u001b[0m\u001b[1;33m)\u001b[0m\u001b[1;33m.\u001b[0m\u001b[0mevalf\u001b[0m\u001b[1;33m(\u001b[0m\u001b[1;33m)\u001b[0m\u001b[1;33m\u001b[0m\u001b[1;33m\u001b[0m\u001b[0m\n\u001b[0m",
      "\u001b[1;31mAttributeError\u001b[0m: 'Segment2D' object has no attribute 'evalf'"
     ]
    }
   ],
   "source": [
    "s1.perpendicular_segment((10,0))"
   ]
  },
  {
   "cell_type": "code",
   "execution_count": 18,
   "metadata": {},
   "outputs": [],
   "source": [
    "from sympy import Line\n",
    "a = Line((0,0),(10,10))"
   ]
  },
  {
   "cell_type": "code",
   "execution_count": 19,
   "metadata": {},
   "outputs": [],
   "source": [
    "from sympy import Point"
   ]
  },
  {
   "cell_type": "code",
   "execution_count": 20,
   "metadata": {},
   "outputs": [],
   "source": [
    "b = Point(2,5)"
   ]
  },
  {
   "cell_type": "code",
   "execution_count": 23,
   "metadata": {},
   "outputs": [],
   "source": [
    "p = a.perpendicular_line(b)"
   ]
  },
  {
   "cell_type": "code",
   "execution_count": 24,
   "metadata": {},
   "outputs": [
    {
     "data": {
      "text/latex": [
       "$\\displaystyle \\left\\{Point2D\\left(\\frac{7}{2}, \\frac{7}{2}\\right)\\right\\}$"
      ],
      "text/plain": [
       "FiniteSet(Point2D(7/2, 7/2))"
      ]
     },
     "execution_count": 24,
     "metadata": {},
     "output_type": "execute_result"
    }
   ],
   "source": [
    "p.intersect(a)"
   ]
  },
  {
   "cell_type": "code",
   "execution_count": null,
   "metadata": {},
   "outputs": [],
   "source": []
  }
 ],
 "metadata": {
  "kernelspec": {
   "display_name": "Python 3",
   "language": "python",
   "name": "python3"
  },
  "language_info": {
   "codemirror_mode": {
    "name": "ipython",
    "version": 3
   },
   "file_extension": ".py",
   "mimetype": "text/x-python",
   "name": "python",
   "nbconvert_exporter": "python",
   "pygments_lexer": "ipython3",
   "version": "3.8.3"
  }
 },
 "nbformat": 4,
 "nbformat_minor": 4
}
