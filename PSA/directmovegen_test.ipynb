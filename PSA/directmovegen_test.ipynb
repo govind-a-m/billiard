{
 "cells": [
  {
   "cell_type": "code",
   "execution_count": 1,
   "metadata": {},
   "outputs": [],
   "source": [
    "with open('table.txt','r') as f:\n",
    "    txt = f.read()"
   ]
  },
  {
   "cell_type": "code",
   "execution_count": 1,
   "metadata": {},
   "outputs": [],
   "source": [
    "txt = {\"balls\":[{\"BallName\":\"CueBall\",\"x\":-2.950535535812378,\"z\":16.82036781311035},{\"BallName\":\"Ball1\",\"x\":-1.8490995168685914,\"z\":-6.760023593902588},{\"BallName\":\"Ball2\",\"x\":-1.7283371686935425,\"z\":18.222749710083009},{\"BallName\":\"Ball3\",\"x\":1.909499168395996,\"z\":-6.499794960021973},{\"BallName\":\"Ball4\",\"x\":-7.390761375427246,\"z\":16.580657958984376},{\"BallName\":\"Ball5\",\"x\":6.7370076179504398,\"z\":16.481185913085939},{\"BallName\":\"Ball6\",\"x\":2.8761515617370607,\"z\":17.798540115356447}]}"
   ]
  },
  {
   "cell_type": "code",
   "execution_count": 1,
   "metadata": {},
   "outputs": [],
   "source": [
    "from TableManager import Table,TableManager"
   ]
  },
  {
   "cell_type": "code",
   "execution_count": 2,
   "metadata": {},
   "outputs": [],
   "source": [
    "import json"
   ]
  },
  {
   "cell_type": "code",
   "execution_count": 3,
   "metadata": {},
   "outputs": [],
   "source": [
    "tabledata = {\"balls\":[{\"BallName\":\"CueBall\",\"x\":-2.950535535812378,\"z\":16.82036781311035},{\"BallName\":\"Ball1\",\"x\":-1.8490995168685914,\"z\":-6.760023593902588},{\"BallName\":\"Ball2\",\"x\":-1.7283371686935425,\"z\":18.222749710083009},{\"BallName\":\"Ball3\",\"x\":1.909499168395996,\"z\":-6.499794960021973},{\"BallName\":\"Ball4\",\"x\":-7.390761375427246,\"z\":16.580657958984376},{\"BallName\":\"Ball5\",\"x\":6.7370076179504398,\"z\":16.481185913085939},{\"BallName\":\"Ball6\",\"x\":2.8761515617370607,\"z\":17.798540115356447}]}"
   ]
  },
  {
   "cell_type": "code",
   "execution_count": 4,
   "metadata": {},
   "outputs": [],
   "source": [
    "table = TableManager.new(tabledata['balls'])"
   ]
  },
  {
   "cell_type": "code",
   "execution_count": 5,
   "metadata": {},
   "outputs": [
    {
     "data": {
      "text/plain": [
       "balls:{'Ball1': Ball1-x:-1.8490995168685913,y:-6.760023593902588, 'Ball2': Ball2-x:-1.7283371686935425,y:18.222749710083008, 'Ball3': Ball3-x:1.909499168395996,y:-6.499794960021973, 'Ball4': Ball4-x:-7.390761375427246,y:16.580657958984375, 'Ball5': Ball5-x:6.7370076179504395,y:16.481185913085938, 'Ball6': Ball6-x:2.8761515617370605,y:17.798540115356445},cue:CueBall-x:-2.950535535812378,y:16.82036781311035,table_id:1"
      ]
     },
     "execution_count": 5,
     "metadata": {},
     "output_type": "execute_result"
    }
   ],
   "source": [
    "table"
   ]
  },
  {
   "cell_type": "code",
   "execution_count": 6,
   "metadata": {},
   "outputs": [],
   "source": [
    "table.SpawnMoves()"
   ]
  },
  {
   "cell_type": "code",
   "execution_count": 10,
   "metadata": {},
   "outputs": [],
   "source": [
    "mv = table.moves[2]"
   ]
  },
  {
   "cell_type": "code",
   "execution_count": 9,
   "metadata": {},
   "outputs": [
    {
     "data": {
      "text/plain": [
       "<PickPocket.MoveGenerator.DirectMoves.Ball at 0x27d409f4cd0>"
      ]
     },
     "execution_count": 9,
     "metadata": {},
     "output_type": "execute_result"
    }
   ],
   "source": []
  },
  {
   "cell_type": "code",
   "execution_count": 7,
   "metadata": {},
   "outputs": [
    {
     "name": "stdout",
     "output_type": "stream",
     "text": [
      "shotangle invalid\n",
      "shotangle invalid\n",
      "hodi tondare illa\n",
      "hodi tondare illa\n",
      "shotangle invalid\n",
      "shotangle invalid\n",
      "hodi tondare illa\n",
      "shotangle invalid\n",
      "shotangle invalid\n",
      "shotangle invalid\n",
      "shotangle invalid\n",
      "shotangle invalid\n",
      "shotangle invalid\n",
      "shotangle invalid\n",
      "ball 5 adda ide\n",
      "hodi tondare illa\n",
      "shotangle invalid\n",
      "shotangle invalid\n",
      "shotangle invalid\n",
      "shotangle invalid\n",
      "shotangle invalid\n",
      "shotangle invalid\n",
      "shotangle invalid\n",
      "hodi tondare illa\n",
      "hodi tondare illa\n",
      "hodi tondare illa\n",
      "shotangle invalid\n",
      "shotangle invalid\n",
      "shotangle invalid\n",
      "shotangle invalid\n",
      "hodi tondare illa\n",
      "shotangle invalid\n",
      "shotangle invalid\n",
      "shotangle invalid\n",
      "shotangle invalid\n",
      "shotangle invalid\n"
     ]
    }
   ],
   "source": [
    "for mv in table.moves:\n",
    "    mv.CalcShotAngle()\n",
    "    mv.CheckValidity(table)\n",
    "    print(mv.ParseValid_id())"
   ]
  },
  {
   "cell_type": "code",
   "execution_count": 8,
   "metadata": {},
   "outputs": [
    {
     "data": {
      "text/plain": [
       "Ball1-x:-1.8490995168685913,y:-6.760023593902588"
      ]
     },
     "execution_count": 8,
     "metadata": {},
     "output_type": "execute_result"
    }
   ],
   "source": [
    "mv.target"
   ]
  },
  {
   "cell_type": "code",
   "execution_count": 9,
   "metadata": {},
   "outputs": [],
   "source": [
    "mv.CalcShotAngle()"
   ]
  },
  {
   "cell_type": "code",
   "execution_count": 10,
   "metadata": {},
   "outputs": [
    {
     "data": {
      "text/plain": [
       "(-2.51746693009877, -6.016192295198373)"
      ]
     },
     "execution_count": 10,
     "metadata": {},
     "output_type": "execute_result"
    }
   ],
   "source": [
    "mv.cMove.ghostball.x,mv.cMove.ghostball.y"
   ]
  },
  {
   "cell_type": "code",
   "execution_count": 11,
   "metadata": {},
   "outputs": [],
   "source": [
    "gb = mv.cMove.ghostball"
   ]
  },
  {
   "cell_type": "code",
   "execution_count": 12,
   "metadata": {},
   "outputs": [
    {
     "data": {
      "text/plain": [
       "CueBall-x:-2.950535535812378,y:16.82036781311035"
      ]
     },
     "execution_count": 12,
     "metadata": {},
     "output_type": "execute_result"
    }
   ],
   "source": [
    "mv.cue"
   ]
  },
  {
   "cell_type": "code",
   "execution_count": 13,
   "metadata": {},
   "outputs": [
    {
     "name": "stderr",
     "output_type": "stream",
     "text": [
      "No traceback available to show.\n"
     ]
    }
   ],
   "source": [
    "tb"
   ]
  },
  {
   "cell_type": "code",
   "execution_count": 14,
   "metadata": {},
   "outputs": [],
   "source": [
    "tb = mv.target"
   ]
  },
  {
   "cell_type": "code",
   "execution_count": 15,
   "metadata": {},
   "outputs": [
    {
     "data": {
      "text/plain": [
       "1.0"
      ]
     },
     "execution_count": 15,
     "metadata": {},
     "output_type": "execute_result"
    }
   ],
   "source": [
    "pow(pow(gb.x-tb.x,2)+pow(gb.y-tb.y,2),0.5)"
   ]
  },
  {
   "cell_type": "code",
   "execution_count": 16,
   "metadata": {},
   "outputs": [
    {
     "data": {
      "text/plain": [
       "-1.5518347712671776"
      ]
     },
     "execution_count": 16,
     "metadata": {},
     "output_type": "execute_result"
    }
   ],
   "source": [
    "mv.aiming_vec_ag"
   ]
  },
  {
   "cell_type": "code",
   "execution_count": 17,
   "metadata": {},
   "outputs": [],
   "source": [
    "mv = table.moves[14]"
   ]
  },
  {
   "cell_type": "code",
   "execution_count": 19,
   "metadata": {},
   "outputs": [
    {
     "data": {
      "text/plain": [
       "(Ball3-x:1.909499168395996,y:-6.499794960021973,\n",
       " pocket-9.3625,-19.237499999999997)"
      ]
     },
     "execution_count": 19,
     "metadata": {},
     "output_type": "execute_result"
    }
   ],
   "source": [
    "mv.target,mv.pocket"
   ]
  },
  {
   "cell_type": "code",
   "execution_count": 20,
   "metadata": {},
   "outputs": [],
   "source": [
    "import ctypes"
   ]
  },
  {
   "cell_type": "code",
   "execution_count": 21,
   "metadata": {},
   "outputs": [
    {
     "ename": "NameError",
     "evalue": "name 'DirMov' is not defined",
     "output_type": "error",
     "traceback": [
      "\u001b[1;31m---------------------------------------------------------------------------\u001b[0m",
      "\u001b[1;31mNameError\u001b[0m                                 Traceback (most recent call last)",
      "\u001b[1;32m<ipython-input-21-3298ca81e654>\u001b[0m in \u001b[0;36m<module>\u001b[1;34m\u001b[0m\n\u001b[1;32m----> 1\u001b[1;33m \u001b[0mDirMov\u001b[0m\u001b[1;33m\u001b[0m\u001b[1;33m\u001b[0m\u001b[0m\n\u001b[0m",
      "\u001b[1;31mNameError\u001b[0m: name 'DirMov' is not defined"
     ]
    }
   ],
   "source": [
    "DirMov"
   ]
  },
  {
   "cell_type": "code",
   "execution_count": 36,
   "metadata": {},
   "outputs": [
    {
     "data": {
      "text/plain": [
       "91.08641710474126"
      ]
     },
     "execution_count": 36,
     "metadata": {},
     "output_type": "execute_result"
    }
   ],
   "source": [
    "(1.5897578823226155)*180/math.pi"
   ]
  },
  {
   "cell_type": "code",
   "execution_count": 13,
   "metadata": {},
   "outputs": [
    {
     "name": "stdout",
     "output_type": "stream",
     "text": [
      "shotangle not valid\n",
      "shotangle not valid\n",
      "shotangle not valid\n",
      "shotangle not valid\n",
      "shotangle not valid\n",
      "Ball4 adda ide\n",
      "shotangle not valid\n",
      "shotangle not valid\n",
      "shotangle not valid\n",
      "shotangle not valid\n",
      "shotangle not valid\n",
      "shotangle not valid\n",
      "Ball2 adda ide\n",
      "shotangle not valid\n",
      "shotangle not valid\n",
      "shotangle not valid\n",
      "shotangle not valid\n",
      "shotangle not valid\n",
      "shotangle not valid\n",
      "shotangle not valid\n",
      "shotangle not valid\n",
      "shotangle not valid\n",
      "shotangle not valid\n",
      "Ball2 adda ide\n",
      "Ball2 adda ide\n",
      "shotangle not valid\n",
      "shotangle not valid\n",
      "shotangle not valid\n",
      "shotangle not valid\n",
      "shotangle not valid\n",
      "shotangle not valid\n",
      "shotangle not valid\n",
      "shotangle not valid\n",
      "shotangle not valid\n",
      "shotangle not valid\n",
      "shotangle not valid\n"
     ]
    }
   ],
   "source": [
    "for strike in strikes:\n",
    "    print(strike.CheckValidity(table))"
   ]
  },
  {
   "cell_type": "code",
   "execution_count": 14,
   "metadata": {},
   "outputs": [
    {
     "name": "stdout",
     "output_type": "stream",
     "text": [
      "Ball2 Point2D(189093016088009/2500000000000000, 7468159198761/500000000000)\n",
      "Ball3 Point2D(1757488489151/500000000000, 11364209651947/625000000000)\n",
      "Ball4 Point2D(-134661269187927/100000000000000, 144175615310669/10000000000000)\n",
      "Ball5 Point2D(6834876537323/5000000000000, 143802442550659/10000000000000)\n",
      "Ball6 Point2D(97340829670429/5000000000000000, 139031429290771/10000000000000)\n"
     ]
    }
   ],
   "source": [
    "for ball in table.balls.values():\n",
    "    if ball.BallName!=strike.target.BallName:\n",
    "        print(ball.BallName,ball.loc)\n",
    "        norm_aiming_line = strike.aiming_vec.perpendicular_line(ball.loc)\n",
    "        intersect_norm_aim = norm_aiming_line.intersection(strike.aiming_vec)\n",
    "        "
   ]
  },
  {
   "cell_type": "code",
   "execution_count": 31,
   "metadata": {},
   "outputs": [],
   "source": [
    "ball = table.balls['Ball2']"
   ]
  },
  {
   "cell_type": "code",
   "execution_count": 33,
   "metadata": {},
   "outputs": [],
   "source": [
    "p = strike.aiming_vec.perpendicular_line(ball.loc)"
   ]
  },
  {
   "cell_type": "code",
   "execution_count": 39,
   "metadata": {},
   "outputs": [
    {
     "data": {
      "text/latex": [
       "$\\displaystyle Line3D\\left(Point3D\\left(\\frac{414138101041317}{50000000000000000}, \\frac{107086730003357}{200000000000000}, \\frac{125670852661133}{10000000000000}\\right), Point3D\\left(-2.58738458533639, 0.534659099883252, 17.9433576896155\\right)\\right)$"
      ],
      "text/plain": [
       "Line3D(Point3D(414138101041317/50000000000000000, 107086730003357/200000000000000, 125670852661133/10000000000000), Point3D(-2.58738458533639, 0.534659099883252, 17.9433576896155))"
      ]
     },
     "execution_count": 39,
     "metadata": {},
     "output_type": "execute_result"
    }
   ],
   "source": [
    "strike.aiming_vec"
   ]
  },
  {
   "cell_type": "code",
   "execution_count": 18,
   "metadata": {},
   "outputs": [],
   "source": [
    "import sympy"
   ]
  },
  {
   "cell_type": "code",
   "execution_count": null,
   "metadata": {},
   "outputs": [],
   "source": []
  },
  {
   "cell_type": "code",
   "execution_count": 25,
   "metadata": {},
   "outputs": [
    {
     "data": {
      "text/plain": [
       "float"
      ]
     },
     "execution_count": 25,
     "metadata": {},
     "output_type": "execute_result"
    }
   ],
   "source": [
    "type(float(sympy.pi.evalf()))"
   ]
  },
  {
   "cell_type": "code",
   "execution_count": 23,
   "metadata": {},
   "outputs": [
    {
     "data": {
      "text/plain": [
       "float"
      ]
     },
     "execution_count": 23,
     "metadata": {},
     "output_type": "execute_result"
    }
   ],
   "source": [
    "type(3.2)"
   ]
  },
  {
   "cell_type": "code",
   "execution_count": 2,
   "metadata": {},
   "outputs": [],
   "source": [
    "import math"
   ]
  },
  {
   "cell_type": "code",
   "execution_count": 13,
   "metadata": {},
   "outputs": [
    {
     "data": {
      "text/plain": [
       "0.7853981633974483"
      ]
     },
     "execution_count": 13,
     "metadata": {},
     "output_type": "execute_result"
    }
   ],
   "source": [
    "math.atan(-1/-1)"
   ]
  },
  {
   "cell_type": "code",
   "execution_count": 5,
   "metadata": {},
   "outputs": [
    {
     "data": {
      "text/plain": [
       "0.7853981633974483"
      ]
     },
     "execution_count": 5,
     "metadata": {},
     "output_type": "execute_result"
    }
   ],
   "source": [
    "math.pi/4"
   ]
  },
  {
   "cell_type": "code",
   "execution_count": 18,
   "metadata": {},
   "outputs": [
    {
     "data": {
      "text/plain": [
       "143.89020575726502"
      ]
     },
     "execution_count": 18,
     "metadata": {},
     "output_type": "execute_result"
    }
   ],
   "source": [
    "2.51008470043229*180/3.14"
   ]
  },
  {
   "cell_type": "code",
   "execution_count": 19,
   "metadata": {},
   "outputs": [],
   "source": [
    "#\"x\":-2.8579154014587404,\"y\":0.5354332327842712,\"z\":16.704933166503908"
   ]
  },
  {
   "cell_type": "code",
   "execution_count": 20,
   "metadata": {},
   "outputs": [],
   "source": [
    "cx = -2.8579154014587404\n",
    "cz = 16.704933166503908\n",
    "px = 749/80\n",
    "pz = 0"
   ]
  },
  {
   "cell_type": "code",
   "execution_count": 26,
   "metadata": {},
   "outputs": [],
   "source": [
    "p1 = [2.135961,1.489037]\n",
    "p2 = [2.382123,2.389284]"
   ]
  },
  {
   "cell_type": "code",
   "execution_count": 27,
   "metadata": {},
   "outputs": [],
   "source": [
    "p = [p2[0]-p1[0],p2[1]-p1[1]]"
   ]
  },
  {
   "cell_type": "code",
   "execution_count": 28,
   "metadata": {},
   "outputs": [
    {
     "data": {
      "text/plain": [
       "[0.246162, 0.900247]"
      ]
     },
     "execution_count": 28,
     "metadata": {},
     "output_type": "execute_result"
    }
   ],
   "source": [
    "p"
   ]
  },
  {
   "cell_type": "code",
   "execution_count": 4,
   "metadata": {},
   "outputs": [],
   "source": [
    "import math"
   ]
  },
  {
   "cell_type": "code",
   "execution_count": 29,
   "metadata": {},
   "outputs": [
    {
     "data": {
      "text/plain": [
       "1.3038826044316045"
      ]
     },
     "execution_count": 29,
     "metadata": {},
     "output_type": "execute_result"
    }
   ],
   "source": [
    "math.atan(p[1]/p[0])"
   ]
  },
  {
   "cell_type": "code",
   "execution_count": 30,
   "metadata": {},
   "outputs": [
    {
     "data": {
      "text/plain": [
       "74.70697021445675"
      ]
     },
     "execution_count": 30,
     "metadata": {},
     "output_type": "execute_result"
    }
   ],
   "source": [
    "1.3038826044316045*180/math.pi"
   ]
  },
  {
   "cell_type": "code",
   "execution_count": 31,
   "metadata": {},
   "outputs": [
    {
     "data": {
      "text/plain": [
       "1.354234318171869"
      ]
     },
     "execution_count": 31,
     "metadata": {},
     "output_type": "execute_result"
    }
   ],
   "source": [
    "2.66659586520638-1.312361547034511"
   ]
  },
  {
   "cell_type": "code",
   "execution_count": 32,
   "metadata": {},
   "outputs": [
    {
     "data": {
      "text/plain": [
       "1.8292311065552822"
      ]
     },
     "execution_count": 32,
     "metadata": {},
     "output_type": "execute_result"
    }
   ],
   "source": [
    "math.pi-1.312361547034511"
   ]
  },
  {
   "cell_type": "code",
   "execution_count": 33,
   "metadata": {},
   "outputs": [
    {
     "data": {
      "text/plain": [
       "0.8373647586510977"
      ]
     },
     "execution_count": 33,
     "metadata": {},
     "output_type": "execute_result"
    }
   ],
   "source": [
    "2.66659586520638-(math.pi-1.312361547034511)"
   ]
  },
  {
   "cell_type": "code",
   "execution_count": 34,
   "metadata": {},
   "outputs": [],
   "source": [
    "def langle(p1,p2):\n",
    "    p = [p2[0]-p1[0],p2[1]-p1[1]]\n",
    "    return math.atan(p[1]/p[0])"
   ]
  },
  {
   "cell_type": "code",
   "execution_count": 35,
   "metadata": {},
   "outputs": [
    {
     "data": {
      "text/plain": [
       "-0.5212359261951637"
      ]
     },
     "execution_count": 35,
     "metadata": {},
     "output_type": "execute_result"
    }
   ],
   "source": [
    "langle([5.009562,5.449656],[5.656494,5.078185])"
   ]
  },
  {
   "cell_type": "code",
   "execution_count": 36,
   "metadata": {},
   "outputs": [],
   "source": [
    "gx = 41719651222229/12500000000000\n",
    "gz = 341782259941101/50000000000000"
   ]
  },
  {
   "cell_type": "code",
   "execution_count": 37,
   "metadata": {},
   "outputs": [
    {
     "data": {
      "text/plain": [
       "3.33757209777832"
      ]
     },
     "execution_count": 37,
     "metadata": {},
     "output_type": "execute_result"
    }
   ],
   "source": [
    "gx"
   ]
  },
  {
   "cell_type": "code",
   "execution_count": 38,
   "metadata": {},
   "outputs": [
    {
     "data": {
      "text/plain": [
       "6.83564519882202"
      ]
     },
     "execution_count": 38,
     "metadata": {},
     "output_type": "execute_result"
    }
   ],
   "source": [
    "gz"
   ]
  },
  {
   "cell_type": "code",
   "execution_count": 39,
   "metadata": {},
   "outputs": [
    {
     "data": {
      "text/plain": [
       "0.8672600977783205"
      ]
     },
     "execution_count": 39,
     "metadata": {},
     "output_type": "execute_result"
    }
   ],
   "source": [
    "4.33757209777832-3.470312"
   ]
  },
  {
   "cell_type": "code",
   "execution_count": 40,
   "metadata": {},
   "outputs": [],
   "source": [
    "from sympy import Point,Segment"
   ]
  },
  {
   "cell_type": "code",
   "execution_count": 41,
   "metadata": {},
   "outputs": [],
   "source": [
    "s1 = Segment((0,0),(5,5))"
   ]
  },
  {
   "cell_type": "code",
   "execution_count": 66,
   "metadata": {},
   "outputs": [
    {
     "ename": "AttributeError",
     "evalue": "'Segment2D' object has no attribute 'evalf'",
     "output_type": "error",
     "traceback": [
      "\u001b[1;31m---------------------------------------------------------------------------\u001b[0m",
      "\u001b[1;31mAttributeError\u001b[0m                            Traceback (most recent call last)",
      "\u001b[1;32m<ipython-input-66-9416f37faa24>\u001b[0m in \u001b[0;36m<module>\u001b[1;34m\u001b[0m\n\u001b[1;32m----> 1\u001b[1;33m \u001b[0ms1\u001b[0m\u001b[1;33m.\u001b[0m\u001b[0mperpendicular_segment\u001b[0m\u001b[1;33m(\u001b[0m\u001b[1;33m(\u001b[0m\u001b[1;36m10\u001b[0m\u001b[1;33m,\u001b[0m\u001b[1;36m0\u001b[0m\u001b[1;33m)\u001b[0m\u001b[1;33m)\u001b[0m\u001b[1;33m.\u001b[0m\u001b[0mevalf\u001b[0m\u001b[1;33m(\u001b[0m\u001b[1;33m)\u001b[0m\u001b[1;33m\u001b[0m\u001b[1;33m\u001b[0m\u001b[0m\n\u001b[0m",
      "\u001b[1;31mAttributeError\u001b[0m: 'Segment2D' object has no attribute 'evalf'"
     ]
    }
   ],
   "source": [
    "s1.perpendicular_segment((10,0))"
   ]
  },
  {
   "cell_type": "code",
   "execution_count": 18,
   "metadata": {},
   "outputs": [],
   "source": [
    "from sympy import Line\n",
    "a = Line((0,0),(10,10))"
   ]
  },
  {
   "cell_type": "code",
   "execution_count": 19,
   "metadata": {},
   "outputs": [],
   "source": [
    "from sympy import Point"
   ]
  },
  {
   "cell_type": "code",
   "execution_count": 20,
   "metadata": {},
   "outputs": [],
   "source": [
    "b = Point(2,5)"
   ]
  },
  {
   "cell_type": "code",
   "execution_count": 23,
   "metadata": {},
   "outputs": [],
   "source": [
    "p = a.perpendicular_line(b)"
   ]
  },
  {
   "cell_type": "code",
   "execution_count": 24,
   "metadata": {},
   "outputs": [
    {
     "data": {
      "text/latex": [
       "$\\displaystyle \\left\\{Point2D\\left(\\frac{7}{2}, \\frac{7}{2}\\right)\\right\\}$"
      ],
      "text/plain": [
       "FiniteSet(Point2D(7/2, 7/2))"
      ]
     },
     "execution_count": 24,
     "metadata": {},
     "output_type": "execute_result"
    }
   ],
   "source": [
    "p.intersect(a)"
   ]
  },
  {
   "cell_type": "code",
   "execution_count": 1,
   "metadata": {},
   "outputs": [],
   "source": [
    "a = []"
   ]
  },
  {
   "cell_type": "code",
   "execution_count": 2,
   "metadata": {},
   "outputs": [],
   "source": [
    "a.append(1)"
   ]
  },
  {
   "cell_type": "code",
   "execution_count": 3,
   "metadata": {},
   "outputs": [
    {
     "data": {
      "text/plain": [
       "[1]"
      ]
     },
     "execution_count": 3,
     "metadata": {},
     "output_type": "execute_result"
    }
   ],
   "source": [
    "a"
   ]
  },
  {
   "cell_type": "code",
   "execution_count": 1,
   "metadata": {},
   "outputs": [],
   "source": [
    "with open(r'../VDSimResult.txt','r') as f:\n",
    "    res_txt = f.read()"
   ]
  },
  {
   "cell_type": "code",
   "execution_count": 2,
   "metadata": {},
   "outputs": [
    {
     "data": {
      "text/plain": [
       "'{\"results\":[{\"v\":5.0,\"d\":1.2522355318069459},{\"v\":10.0,\"d\":2.6755378246307375},{\"v\":15.0,\"d\":4.26755952835083},{\"v\":20.0,\"d\":6.220824241638184},{\"v\":25.0,\"d\":8.429092407226563},{\"v\":30.0,\"d\":10.81401252746582},{\"v\":35.0,\"d\":13.300644874572754},{\"v\":40.0,\"d\":15.86725902557373},{\"v\":45.0,\"d\":18.498825073242189},{\"v\":50.0,\"d\":21.181726455688478},{\"v\":55.0,\"d\":23.910953521728517},{\"v\":60.0,\"d\":26.677688598632814},{\"v\":65.0,\"d\":29.47677993774414},{\"v\":70.0,\"d\":32.30370330810547},{\"v\":75.0,\"d\":35.15569305419922},{\"v\":80.0,\"d\":38.02987289428711},{\"v\":85.0,\"d\":40.92322540283203},{\"v\":90.0,\"d\":43.83363723754883},{\"v\":95.0,\"d\":46.761112213134769},{\"v\":100.0,\"d\":49.7026481628418},{\"v\":105.0,\"d\":52.656558990478519},{\"v\":110.0,\"d\":55.62158966064453},{\"v\":115.0,\"d\":58.60023498535156},{\"v\":120.0,\"d\":61.58735275268555},{\"v\":125.0,\"d\":64.58264923095703},{\"v\":130.0,\"d\":67.58887481689453},{\"v\":135.0,\"d\":70.60221862792969},{\"v\":140.0,\"d\":73.62287902832031},{\"v\":145.0,\"d\":76.65091705322266},{\"v\":150.0,\"d\":79.68518829345703},{\"v\":155.0,\"d\":82.7255630493164},{\"v\":160.0,\"d\":85.77178955078125},{\"v\":165.0,\"d\":88.82352447509766},{\"v\":170.0,\"d\":91.8803482055664},{\"v\":175.0,\"d\":94.94204711914063},{\"v\":180.0,\"d\":98.00826263427735},{\"v\":185.0,\"d\":101.07797241210938},{\"v\":190.0,\"d\":104.15237426757813},{\"v\":195.0,\"d\":107.23152923583985},{\"v\":200.0,\"d\":110.31417083740235},{\"v\":205.0,\"d\":113.40018463134766},{\"v\":210.0,\"d\":116.48805236816406},{\"v\":215.0,\"d\":119.58187103271485},{\"v\":220.0,\"d\":122.67813110351563},{\"v\":225.0,\"d\":125.77677154541016},{\"v\":230.0,\"d\":128.8776397705078},{\"v\":235.0,\"d\":131.9823760986328},{\"v\":240.0,\"d\":135.08819580078126},{\"v\":245.0,\"d\":138.1980438232422},{\"v\":250.0,\"d\":141.31040954589845},{\"v\":255.0,\"d\":144.4232940673828},{\"v\":260.0,\"d\":147.54049682617188},{\"v\":265.0,\"d\":150.65933227539063},{\"v\":270.0,\"d\":153.77838134765626},{\"v\":275.0,\"d\":156.9022979736328},{\"v\":280.0,\"d\":160.02647399902345},{\"v\":285.0,\"d\":163.15249633789063},{\"v\":290.0,\"d\":166.28097534179688},{\"v\":295.0,\"d\":169.4105987548828},{\"v\":300.0,\"d\":172.54251098632813},{\"v\":305.0,\"d\":175.6749267578125},{\"v\":310.0,\"d\":178.81051635742188},{\"v\":315.0,\"d\":181.94602966308595},{\"v\":320.0,\"d\":185.08494567871095},{\"v\":325.0,\"d\":188.2235565185547},{\"v\":330.0,\"d\":191.36476135253907},{\"v\":335.0,\"d\":194.50625610351563},{\"v\":340.0,\"d\":197.65003967285157},{\"v\":345.0,\"d\":200.79437255859376},{\"v\":350.0,\"d\":203.9391326904297},{\"v\":355.0,\"d\":207.08709716796876},{\"v\":360.0,\"d\":210.234375},{\"v\":365.0,\"d\":213.38482666015626},{\"v\":370.0,\"d\":216.534423828125},{\"v\":375.0,\"d\":219.68707275390626},{\"v\":380.0,\"d\":222.83909606933595},{\"v\":385.0,\"d\":225.99325561523438},{\"v\":390.0,\"d\":229.1474609375},{\"v\":395.0,\"d\":232.30299377441407},{\"v\":400.0,\"d\":235.4600830078125},{\"v\":405.0,\"d\":238.61639404296876},{\"v\":410.0,\"d\":241.7757110595703},{\"v\":415.0,\"d\":244.9346466064453},{\"v\":420.0,\"d\":248.0948486328125},{\"v\":425.0,\"d\":251.25616455078126},{\"v\":430.0,\"d\":254.417724609375},{\"v\":435.0,\"d\":257.5810241699219},{\"v\":440.0,\"d\":260.7442626953125},{\"v\":445.0,\"d\":263.9075012207031},{\"v\":450.0,\"d\":267.0733642578125},{\"v\":455.0,\"d\":270.23919677734377},{\"v\":460.0,\"d\":273.4045715332031},{\"v\":465.0,\"d\":276.5730895996094},{\"v\":470.0,\"d\":279.7402648925781},{\"v\":475.0,\"d\":282.9075622558594},{\"v\":480.0,\"d\":286.07830810546877},{\"v\":485.0,\"d\":289.2478942871094},{\"v\":490.0,\"d\":292.4173583984375},{\"v\":495.0,\"d\":295.5899963378906},{\"v\":500.0,\"d\":298.7611083984375},{\"v\":505.0,\"d\":301.9329528808594},{\"v\":510.0,\"d\":305.105712890625},{\"v\":515.0,\"d\":308.280029296875},{\"v\":520.0,\"d\":311.45367431640627},{\"v\":525.0,\"d\":314.627685546875},{\"v\":530.0,\"d\":317.80419921875},{\"v\":535.0,\"d\":320.9792785644531},{\"v\":540.0,\"d\":324.155029296875},{\"v\":545.0,\"d\":327.3327941894531},{\"v\":550.0,\"d\":330.5096740722656},{\"v\":555.0,\"d\":333.68634033203127},{\"v\":560.0,\"d\":336.8660583496094},{\"v\":565.0,\"d\":340.0445556640625},{\"v\":570.0,\"d\":343.2227783203125},{\"v\":575.0,\"d\":346.4036865234375},{\"v\":580.0,\"d\":349.5835266113281},{\"v\":585.0,\"d\":352.7637634277344},{\"v\":590.0,\"d\":355.9437255859375},{\"v\":595.0,\"d\":359.12640380859377},{\"v\":600.0,\"d\":362.30780029296877},{\"v\":605.0,\"d\":365.4902648925781},{\"v\":610.0,\"d\":368.6730651855469},{\"v\":615.0,\"d\":371.8563537597656},{\"v\":620.0,\"d\":375.0393371582031},{\"v\":625.0,\"d\":378.2230224609375},{\"v\":630.0,\"d\":381.408203125},{\"v\":635.0,\"d\":384.59283447265627},{\"v\":640.0,\"d\":387.7778625488281},{\"v\":645.0,\"d\":390.96240234375},{\"v\":650.0,\"d\":394.1488952636719},{\"v\":655.0,\"d\":397.33526611328127},{\"v\":660.0,\"d\":400.5218200683594},{\"v\":665.0,\"d\":403.70758056640627},{\"v\":670.0,\"d\":406.8956604003906},{\"v\":675.0,\"d\":410.083740234375},{\"v\":680.0,\"d\":413.2710876464844},{\"v\":685.0,\"d\":416.4588928222656},{\"v\":690.0,\"d\":419.6479187011719},{\"v\":695.0,\"d\":422.83709716796877},{\"v\":700.0,\"d\":426.02593994140627},{\"v\":705.0,\"d\":429.2153625488281},{\"v\":710.0,\"d\":432.4037780761719},{\"v\":715.0,\"d\":435.59564208984377},{\"v\":720.0,\"d\":438.7857360839844},{\"v\":725.0,\"d\":441.97607421875},{\"v\":730.0,\"d\":445.1667175292969},{\"v\":735.0,\"d\":448.3574523925781},{\"v\":740.0,\"d\":451.54901123046877},{\"v\":745.0,\"d\":454.74200439453127}]}'"
      ]
     },
     "execution_count": 2,
     "metadata": {},
     "output_type": "execute_result"
    }
   ],
   "source": [
    "res_txt"
   ]
  },
  {
   "cell_type": "code",
   "execution_count": 3,
   "metadata": {},
   "outputs": [],
   "source": [
    "import json"
   ]
  },
  {
   "cell_type": "code",
   "execution_count": 5,
   "metadata": {},
   "outputs": [],
   "source": [
    "res_json = json.loads(res_txt)"
   ]
  },
  {
   "cell_type": "code",
   "execution_count": 8,
   "metadata": {},
   "outputs": [
    {
     "name": "stdout",
     "output_type": "stream",
     "text": [
      "5.0 1.2522355318069458\n",
      "10.0 2.6755378246307373\n",
      "15.0 4.26755952835083\n",
      "20.0 6.220824241638184\n",
      "25.0 8.429092407226562\n",
      "30.0 10.81401252746582\n",
      "35.0 13.300644874572754\n",
      "40.0 15.86725902557373\n",
      "45.0 18.498825073242188\n",
      "50.0 21.181726455688477\n",
      "55.0 23.910953521728516\n",
      "60.0 26.677688598632812\n",
      "65.0 29.47677993774414\n",
      "70.0 32.30370330810547\n",
      "75.0 35.15569305419922\n",
      "80.0 38.02987289428711\n",
      "85.0 40.92322540283203\n",
      "90.0 43.83363723754883\n",
      "95.0 46.761112213134766\n",
      "100.0 49.7026481628418\n",
      "105.0 52.656558990478516\n",
      "110.0 55.62158966064453\n",
      "115.0 58.60023498535156\n",
      "120.0 61.58735275268555\n",
      "125.0 64.58264923095703\n",
      "130.0 67.58887481689453\n",
      "135.0 70.60221862792969\n",
      "140.0 73.62287902832031\n",
      "145.0 76.65091705322266\n",
      "150.0 79.68518829345703\n",
      "155.0 82.7255630493164\n",
      "160.0 85.77178955078125\n",
      "165.0 88.82352447509766\n",
      "170.0 91.8803482055664\n",
      "175.0 94.94204711914062\n",
      "180.0 98.00826263427734\n",
      "185.0 101.07797241210938\n",
      "190.0 104.15237426757812\n",
      "195.0 107.23152923583984\n",
      "200.0 110.31417083740234\n",
      "205.0 113.40018463134766\n",
      "210.0 116.48805236816406\n",
      "215.0 119.58187103271484\n",
      "220.0 122.67813110351562\n",
      "225.0 125.77677154541016\n",
      "230.0 128.8776397705078\n",
      "235.0 131.9823760986328\n",
      "240.0 135.08819580078125\n",
      "245.0 138.1980438232422\n",
      "250.0 141.31040954589844\n",
      "255.0 144.4232940673828\n",
      "260.0 147.54049682617188\n",
      "265.0 150.65933227539062\n",
      "270.0 153.77838134765625\n",
      "275.0 156.9022979736328\n",
      "280.0 160.02647399902344\n",
      "285.0 163.15249633789062\n",
      "290.0 166.28097534179688\n",
      "295.0 169.4105987548828\n",
      "300.0 172.54251098632812\n",
      "305.0 175.6749267578125\n",
      "310.0 178.81051635742188\n",
      "315.0 181.94602966308594\n",
      "320.0 185.08494567871094\n",
      "325.0 188.2235565185547\n",
      "330.0 191.36476135253906\n",
      "335.0 194.50625610351562\n",
      "340.0 197.65003967285156\n",
      "345.0 200.79437255859375\n",
      "350.0 203.9391326904297\n",
      "355.0 207.08709716796875\n",
      "360.0 210.234375\n",
      "365.0 213.38482666015625\n",
      "370.0 216.534423828125\n",
      "375.0 219.68707275390625\n",
      "380.0 222.83909606933594\n",
      "385.0 225.99325561523438\n",
      "390.0 229.1474609375\n",
      "395.0 232.30299377441406\n",
      "400.0 235.4600830078125\n",
      "405.0 238.61639404296875\n",
      "410.0 241.7757110595703\n",
      "415.0 244.9346466064453\n",
      "420.0 248.0948486328125\n",
      "425.0 251.25616455078125\n",
      "430.0 254.417724609375\n",
      "435.0 257.5810241699219\n",
      "440.0 260.7442626953125\n",
      "445.0 263.9075012207031\n",
      "450.0 267.0733642578125\n",
      "455.0 270.23919677734375\n",
      "460.0 273.4045715332031\n",
      "465.0 276.5730895996094\n",
      "470.0 279.7402648925781\n",
      "475.0 282.9075622558594\n",
      "480.0 286.07830810546875\n",
      "485.0 289.2478942871094\n",
      "490.0 292.4173583984375\n",
      "495.0 295.5899963378906\n",
      "500.0 298.7611083984375\n",
      "505.0 301.9329528808594\n",
      "510.0 305.105712890625\n",
      "515.0 308.280029296875\n",
      "520.0 311.45367431640625\n",
      "525.0 314.627685546875\n",
      "530.0 317.80419921875\n",
      "535.0 320.9792785644531\n",
      "540.0 324.155029296875\n",
      "545.0 327.3327941894531\n",
      "550.0 330.5096740722656\n",
      "555.0 333.68634033203125\n",
      "560.0 336.8660583496094\n",
      "565.0 340.0445556640625\n",
      "570.0 343.2227783203125\n",
      "575.0 346.4036865234375\n",
      "580.0 349.5835266113281\n",
      "585.0 352.7637634277344\n",
      "590.0 355.9437255859375\n",
      "595.0 359.12640380859375\n",
      "600.0 362.30780029296875\n",
      "605.0 365.4902648925781\n",
      "610.0 368.6730651855469\n",
      "615.0 371.8563537597656\n",
      "620.0 375.0393371582031\n",
      "625.0 378.2230224609375\n",
      "630.0 381.408203125\n",
      "635.0 384.59283447265625\n",
      "640.0 387.7778625488281\n",
      "645.0 390.96240234375\n",
      "650.0 394.1488952636719\n",
      "655.0 397.33526611328125\n",
      "660.0 400.5218200683594\n",
      "665.0 403.70758056640625\n",
      "670.0 406.8956604003906\n",
      "675.0 410.083740234375\n",
      "680.0 413.2710876464844\n",
      "685.0 416.4588928222656\n",
      "690.0 419.6479187011719\n",
      "695.0 422.83709716796875\n",
      "700.0 426.02593994140625\n",
      "705.0 429.2153625488281\n",
      "710.0 432.4037780761719\n",
      "715.0 435.59564208984375\n",
      "720.0 438.7857360839844\n",
      "725.0 441.97607421875\n",
      "730.0 445.1667175292969\n",
      "735.0 448.3574523925781\n",
      "740.0 451.54901123046875\n",
      "745.0 454.74200439453125\n"
     ]
    }
   ],
   "source": [
    "for res in res_json['results']:\n",
    "    print(res['v'],res['d'])for res in res_json['results']:\n",
    "    print(res['v'],res['d'])"
   ]
  },
  {
   "cell_type": "code",
   "execution_count": 20,
   "metadata": {},
   "outputs": [],
   "source": [
    "VDSimResults = []"
   ]
  },
  {
   "cell_type": "code",
   "execution_count": 21,
   "metadata": {},
   "outputs": [
    {
     "name": "stdout",
     "output_type": "stream",
     "text": [
      "5.0 , 1.2522355318069458\n",
      "10.0 , 2.6755378246307373\n",
      "15.0 , 4.26755952835083\n",
      "20.0 , 6.220824241638184\n",
      "25.0 , 8.429092407226562\n",
      "30.0 , 10.81401252746582\n",
      "35.0 , 13.300644874572754\n",
      "40.0 , 15.86725902557373\n",
      "45.0 , 18.498825073242188\n",
      "50.0 , 21.181726455688477\n",
      "55.0 , 23.910953521728516\n",
      "60.0 , 26.677688598632812\n",
      "65.0 , 29.47677993774414\n",
      "70.0 , 32.30370330810547\n",
      "75.0 , 35.15569305419922\n",
      "80.0 , 38.02987289428711\n",
      "85.0 , 40.92322540283203\n",
      "90.0 , 43.83363723754883\n",
      "95.0 , 46.761112213134766\n",
      "100.0 , 49.7026481628418\n",
      "105.0 , 52.656558990478516\n",
      "110.0 , 55.62158966064453\n",
      "115.0 , 58.60023498535156\n",
      "120.0 , 61.58735275268555\n",
      "125.0 , 64.58264923095703\n",
      "130.0 , 67.58887481689453\n",
      "135.0 , 70.60221862792969\n",
      "140.0 , 73.62287902832031\n",
      "145.0 , 76.65091705322266\n",
      "150.0 , 79.68518829345703\n",
      "155.0 , 82.7255630493164\n",
      "160.0 , 85.77178955078125\n",
      "165.0 , 88.82352447509766\n",
      "170.0 , 91.8803482055664\n",
      "175.0 , 94.94204711914062\n",
      "180.0 , 98.00826263427734\n",
      "185.0 , 101.07797241210938\n",
      "190.0 , 104.15237426757812\n",
      "195.0 , 107.23152923583984\n",
      "200.0 , 110.31417083740234\n",
      "205.0 , 113.40018463134766\n",
      "210.0 , 116.48805236816406\n",
      "215.0 , 119.58187103271484\n",
      "220.0 , 122.67813110351562\n",
      "225.0 , 125.77677154541016\n",
      "230.0 , 128.8776397705078\n",
      "235.0 , 131.9823760986328\n",
      "240.0 , 135.08819580078125\n",
      "245.0 , 138.1980438232422\n",
      "250.0 , 141.31040954589844\n",
      "255.0 , 144.4232940673828\n",
      "260.0 , 147.54049682617188\n",
      "265.0 , 150.65933227539062\n",
      "270.0 , 153.77838134765625\n",
      "275.0 , 156.9022979736328\n",
      "280.0 , 160.02647399902344\n",
      "285.0 , 163.15249633789062\n",
      "290.0 , 166.28097534179688\n",
      "295.0 , 169.4105987548828\n",
      "300.0 , 172.54251098632812\n",
      "305.0 , 175.6749267578125\n",
      "310.0 , 178.81051635742188\n",
      "315.0 , 181.94602966308594\n",
      "320.0 , 185.08494567871094\n",
      "325.0 , 188.2235565185547\n",
      "330.0 , 191.36476135253906\n",
      "335.0 , 194.50625610351562\n",
      "340.0 , 197.65003967285156\n",
      "345.0 , 200.79437255859375\n",
      "350.0 , 203.9391326904297\n",
      "355.0 , 207.08709716796875\n",
      "360.0 , 210.234375\n",
      "365.0 , 213.38482666015625\n",
      "370.0 , 216.534423828125\n",
      "375.0 , 219.68707275390625\n",
      "380.0 , 222.83909606933594\n",
      "385.0 , 225.99325561523438\n",
      "390.0 , 229.1474609375\n",
      "395.0 , 232.30299377441406\n",
      "400.0 , 235.4600830078125\n",
      "405.0 , 238.61639404296875\n",
      "410.0 , 241.7757110595703\n",
      "415.0 , 244.9346466064453\n",
      "420.0 , 248.0948486328125\n",
      "425.0 , 251.25616455078125\n",
      "430.0 , 254.417724609375\n",
      "435.0 , 257.5810241699219\n",
      "440.0 , 260.7442626953125\n",
      "445.0 , 263.9075012207031\n",
      "450.0 , 267.0733642578125\n",
      "455.0 , 270.23919677734375\n",
      "460.0 , 273.4045715332031\n",
      "465.0 , 276.5730895996094\n",
      "470.0 , 279.7402648925781\n",
      "475.0 , 282.9075622558594\n",
      "480.0 , 286.07830810546875\n",
      "485.0 , 289.2478942871094\n",
      "490.0 , 292.4173583984375\n",
      "495.0 , 295.5899963378906\n",
      "500.0 , 298.7611083984375\n",
      "505.0 , 301.9329528808594\n",
      "510.0 , 305.105712890625\n",
      "515.0 , 308.280029296875\n",
      "520.0 , 311.45367431640625\n",
      "525.0 , 314.627685546875\n",
      "530.0 , 317.80419921875\n",
      "535.0 , 320.9792785644531\n",
      "540.0 , 324.155029296875\n",
      "545.0 , 327.3327941894531\n",
      "550.0 , 330.5096740722656\n",
      "555.0 , 333.68634033203125\n",
      "560.0 , 336.8660583496094\n",
      "565.0 , 340.0445556640625\n",
      "570.0 , 343.2227783203125\n",
      "575.0 , 346.4036865234375\n",
      "580.0 , 349.5835266113281\n",
      "585.0 , 352.7637634277344\n",
      "590.0 , 355.9437255859375\n",
      "595.0 , 359.12640380859375\n",
      "600.0 , 362.30780029296875\n",
      "605.0 , 365.4902648925781\n",
      "610.0 , 368.6730651855469\n",
      "615.0 , 371.8563537597656\n",
      "620.0 , 375.0393371582031\n",
      "625.0 , 378.2230224609375\n",
      "630.0 , 381.408203125\n",
      "635.0 , 384.59283447265625\n",
      "640.0 , 387.7778625488281\n",
      "645.0 , 390.96240234375\n",
      "650.0 , 394.1488952636719\n",
      "655.0 , 397.33526611328125\n",
      "660.0 , 400.5218200683594\n",
      "665.0 , 403.70758056640625\n",
      "670.0 , 406.8956604003906\n",
      "675.0 , 410.083740234375\n",
      "680.0 , 413.2710876464844\n",
      "685.0 , 416.4588928222656\n",
      "690.0 , 419.6479187011719\n",
      "695.0 , 422.83709716796875\n",
      "700.0 , 426.02593994140625\n",
      "705.0 , 429.2153625488281\n",
      "710.0 , 432.4037780761719\n",
      "715.0 , 435.59564208984375\n",
      "720.0 , 438.7857360839844\n",
      "725.0 , 441.97607421875\n",
      "730.0 , 445.1667175292969\n",
      "735.0 , 448.3574523925781\n",
      "740.0 , 451.54901123046875\n",
      "745.0 , 454.74200439453125\n"
     ]
    }
   ],
   "source": [
    "for res in res_json['results']:\n",
    "    print(res['v'],',',res['d'])\n",
    "    VDSimResults.append([res['d'],res['v']])"
   ]
  },
  {
   "cell_type": "code",
   "execution_count": 18,
   "metadata": {},
   "outputs": [
    {
     "data": {
      "text/plain": [
       "[[1.2522355318069458, 5.0],\n",
       " [2.6755378246307373, 10.0],\n",
       " [4.26755952835083, 15.0],\n",
       " [6.220824241638184, 20.0],\n",
       " [8.429092407226562, 25.0],\n",
       " [10.81401252746582, 30.0],\n",
       " [13.300644874572754, 35.0],\n",
       " [15.86725902557373, 40.0],\n",
       " [18.498825073242188, 45.0],\n",
       " [21.181726455688477, 50.0],\n",
       " [23.910953521728516, 55.0],\n",
       " [26.677688598632812, 60.0],\n",
       " [29.47677993774414, 65.0],\n",
       " [32.30370330810547, 70.0],\n",
       " [35.15569305419922, 75.0],\n",
       " [38.02987289428711, 80.0],\n",
       " [40.92322540283203, 85.0],\n",
       " [43.83363723754883, 90.0],\n",
       " [46.761112213134766, 95.0],\n",
       " [49.7026481628418, 100.0],\n",
       " [52.656558990478516, 105.0],\n",
       " [55.62158966064453, 110.0],\n",
       " [58.60023498535156, 115.0],\n",
       " [61.58735275268555, 120.0],\n",
       " [64.58264923095703, 125.0],\n",
       " [67.58887481689453, 130.0],\n",
       " [70.60221862792969, 135.0],\n",
       " [73.62287902832031, 140.0],\n",
       " [76.65091705322266, 145.0],\n",
       " [79.68518829345703, 150.0],\n",
       " [82.7255630493164, 155.0],\n",
       " [85.77178955078125, 160.0],\n",
       " [88.82352447509766, 165.0],\n",
       " [91.8803482055664, 170.0],\n",
       " [94.94204711914062, 175.0],\n",
       " [98.00826263427734, 180.0],\n",
       " [101.07797241210938, 185.0],\n",
       " [104.15237426757812, 190.0],\n",
       " [107.23152923583984, 195.0],\n",
       " [110.31417083740234, 200.0],\n",
       " [113.40018463134766, 205.0],\n",
       " [116.48805236816406, 210.0],\n",
       " [119.58187103271484, 215.0],\n",
       " [122.67813110351562, 220.0],\n",
       " [125.77677154541016, 225.0],\n",
       " [128.8776397705078, 230.0],\n",
       " [131.9823760986328, 235.0],\n",
       " [135.08819580078125, 240.0],\n",
       " [138.1980438232422, 245.0],\n",
       " [141.31040954589844, 250.0],\n",
       " [144.4232940673828, 255.0],\n",
       " [147.54049682617188, 260.0],\n",
       " [150.65933227539062, 265.0],\n",
       " [153.77838134765625, 270.0],\n",
       " [156.9022979736328, 275.0],\n",
       " [160.02647399902344, 280.0],\n",
       " [163.15249633789062, 285.0],\n",
       " [166.28097534179688, 290.0],\n",
       " [169.4105987548828, 295.0],\n",
       " [172.54251098632812, 300.0],\n",
       " [175.6749267578125, 305.0],\n",
       " [178.81051635742188, 310.0],\n",
       " [181.94602966308594, 315.0],\n",
       " [185.08494567871094, 320.0],\n",
       " [188.2235565185547, 325.0],\n",
       " [191.36476135253906, 330.0],\n",
       " [194.50625610351562, 335.0],\n",
       " [197.65003967285156, 340.0],\n",
       " [200.79437255859375, 345.0],\n",
       " [203.9391326904297, 350.0],\n",
       " [207.08709716796875, 355.0],\n",
       " [210.234375, 360.0],\n",
       " [213.38482666015625, 365.0],\n",
       " [216.534423828125, 370.0],\n",
       " [219.68707275390625, 375.0],\n",
       " [222.83909606933594, 380.0],\n",
       " [225.99325561523438, 385.0],\n",
       " [229.1474609375, 390.0],\n",
       " [232.30299377441406, 395.0],\n",
       " [235.4600830078125, 400.0],\n",
       " [238.61639404296875, 405.0],\n",
       " [241.7757110595703, 410.0],\n",
       " [244.9346466064453, 415.0],\n",
       " [248.0948486328125, 420.0],\n",
       " [251.25616455078125, 425.0],\n",
       " [254.417724609375, 430.0],\n",
       " [257.5810241699219, 435.0],\n",
       " [260.7442626953125, 440.0],\n",
       " [263.9075012207031, 445.0],\n",
       " [267.0733642578125, 450.0],\n",
       " [270.23919677734375, 455.0],\n",
       " [273.4045715332031, 460.0],\n",
       " [276.5730895996094, 465.0],\n",
       " [279.7402648925781, 470.0],\n",
       " [282.9075622558594, 475.0],\n",
       " [286.07830810546875, 480.0],\n",
       " [289.2478942871094, 485.0],\n",
       " [292.4173583984375, 490.0],\n",
       " [295.5899963378906, 495.0],\n",
       " [298.7611083984375, 500.0],\n",
       " [301.9329528808594, 505.0],\n",
       " [305.105712890625, 510.0],\n",
       " [308.280029296875, 515.0],\n",
       " [311.45367431640625, 520.0],\n",
       " [314.627685546875, 525.0],\n",
       " [317.80419921875, 530.0],\n",
       " [320.9792785644531, 535.0],\n",
       " [324.155029296875, 540.0],\n",
       " [327.3327941894531, 545.0],\n",
       " [330.5096740722656, 550.0],\n",
       " [333.68634033203125, 555.0],\n",
       " [336.8660583496094, 560.0],\n",
       " [340.0445556640625, 565.0],\n",
       " [343.2227783203125, 570.0],\n",
       " [346.4036865234375, 575.0],\n",
       " [349.5835266113281, 580.0],\n",
       " [352.7637634277344, 585.0],\n",
       " [355.9437255859375, 590.0],\n",
       " [359.12640380859375, 595.0],\n",
       " [362.30780029296875, 600.0],\n",
       " [365.4902648925781, 605.0],\n",
       " [368.6730651855469, 610.0],\n",
       " [371.8563537597656, 615.0],\n",
       " [375.0393371582031, 620.0],\n",
       " [378.2230224609375, 625.0],\n",
       " [381.408203125, 630.0],\n",
       " [384.59283447265625, 635.0],\n",
       " [387.7778625488281, 640.0],\n",
       " [390.96240234375, 645.0],\n",
       " [394.1488952636719, 650.0],\n",
       " [397.33526611328125, 655.0],\n",
       " [400.5218200683594, 660.0],\n",
       " [403.70758056640625, 665.0],\n",
       " [406.8956604003906, 670.0],\n",
       " [410.083740234375, 675.0],\n",
       " [413.2710876464844, 680.0],\n",
       " [416.4588928222656, 685.0],\n",
       " [419.6479187011719, 690.0],\n",
       " [422.83709716796875, 695.0],\n",
       " [426.02593994140625, 700.0],\n",
       " [429.2153625488281, 705.0],\n",
       " [432.4037780761719, 710.0],\n",
       " [435.59564208984375, 715.0],\n",
       " [438.7857360839844, 720.0],\n",
       " [441.97607421875, 725.0],\n",
       " [445.1667175292969, 730.0],\n",
       " [448.3574523925781, 735.0],\n",
       " [451.54901123046875, 740.0],\n",
       " [454.74200439453125, 745.0]]"
      ]
     },
     "execution_count": 18,
     "metadata": {},
     "output_type": "execute_result"
    }
   ],
   "source": [
    "VDSimResults"
   ]
  },
  {
   "cell_type": "code",
   "execution_count": 1,
   "metadata": {},
   "outputs": [
    {
     "ename": "TypeError",
     "evalue": "'float' object cannot be interpreted as an integer",
     "output_type": "error",
     "traceback": [
      "\u001b[1;31m---------------------------------------------------------------------------\u001b[0m",
      "\u001b[1;31mTypeError\u001b[0m                                 Traceback (most recent call last)",
      "\u001b[1;32m<ipython-input-1-dee423e6b248>\u001b[0m in \u001b[0;36m<module>\u001b[1;34m\u001b[0m\n\u001b[1;32m----> 1\u001b[1;33m \u001b[1;32mfor\u001b[0m \u001b[0mi\u001b[0m \u001b[1;32min\u001b[0m \u001b[0mrange\u001b[0m\u001b[1;33m(\u001b[0m\u001b[1;36m1\u001b[0m\u001b[1;33m,\u001b[0m\u001b[1;36m1.5\u001b[0m\u001b[1;33m,\u001b[0m\u001b[1;36m0.1\u001b[0m\u001b[1;33m)\u001b[0m\u001b[1;33m:\u001b[0m\u001b[1;33m\u001b[0m\u001b[1;33m\u001b[0m\u001b[0m\n\u001b[0m\u001b[0;32m      2\u001b[0m     \u001b[0mprint\u001b[0m\u001b[1;33m(\u001b[0m\u001b[0mi\u001b[0m\u001b[1;33m)\u001b[0m\u001b[1;33m\u001b[0m\u001b[1;33m\u001b[0m\u001b[0m\n",
      "\u001b[1;31mTypeError\u001b[0m: 'float' object cannot be interpreted as an integer"
     ]
    }
   ],
   "source": [
    "for i in range(1,1.5,0.1):\n",
    "    print(i)"
   ]
  },
  {
   "cell_type": "code",
   "execution_count": 2,
   "metadata": {},
   "outputs": [
    {
     "data": {
      "text/plain": [
       "1"
      ]
     },
     "execution_count": 2,
     "metadata": {},
     "output_type": "execute_result"
    }
   ],
   "source": [
    "abs(-1)"
   ]
  },
  {
   "cell_type": "code",
   "execution_count": 7,
   "metadata": {},
   "outputs": [],
   "source": [
    "mv =table.moves[15]"
   ]
  },
  {
   "cell_type": "code",
   "execution_count": 8,
   "metadata": {},
   "outputs": [
    {
     "data": {
      "text/plain": [
       "(Ball3-x:1.909499168395996,y:-6.499794960021973,\n",
       " pocket-9.3625,-19.237499999999997,\n",
       " CueBall-x:-2.950535535812378,y:16.82036781311035)"
      ]
     },
     "execution_count": 8,
     "metadata": {},
     "output_type": "execute_result"
    }
   ],
   "source": [
    "mv.target,mv.pocket,mv.cue"
   ]
  },
  {
   "cell_type": "code",
   "execution_count": 9,
   "metadata": {},
   "outputs": [
    {
     "data": {
      "text/plain": [
       "Ball4-x:-7.390761375427246,y:16.580657958984375"
      ]
     },
     "execution_count": 9,
     "metadata": {},
     "output_type": "execute_result"
    }
   ],
   "source": [
    "table.balls['Ball4']"
   ]
  },
  {
   "cell_type": "code",
   "execution_count": 20,
   "metadata": {},
   "outputs": [
    {
     "data": {
      "text/plain": [
       "16.580657958984375"
      ]
     },
     "execution_count": 20,
     "metadata": {},
     "output_type": "execute_result"
    }
   ],
   "source": [
    "table.balls['Ball4'].cBall.position.y"
   ]
  },
  {
   "cell_type": "code",
   "execution_count": 10,
   "metadata": {},
   "outputs": [],
   "source": [
    "mv.CalcShotAngle()"
   ]
  },
  {
   "cell_type": "code",
   "execution_count": 11,
   "metadata": {},
   "outputs": [
    {
     "data": {
      "text/plain": [
       "(0.3378525910159819, -1.379247428414042)"
      ]
     },
     "execution_count": 11,
     "metadata": {},
     "output_type": "execute_result"
    }
   ],
   "source": [
    "mv.shotangle,mv.aiming_vec_ag"
   ]
  },
  {
   "cell_type": "code",
   "execution_count": 14,
   "metadata": {},
   "outputs": [
    {
     "data": {
      "text/plain": [
       "(4.404652368613064, 3.628874594606659)"
      ]
     },
     "execution_count": 14,
     "metadata": {},
     "output_type": "execute_result"
    }
   ],
   "source": [
    "mv._PerpSegmentLength(table.balls['Ball4'])"
   ]
  },
  {
   "cell_type": "code",
   "execution_count": 7,
   "metadata": {},
   "outputs": [
    {
     "name": "stdout",
     "output_type": "stream",
     "text": [
      "10 Ball1-x:-1.8490995168685913,y:-6.760023593902588 pocket-9.3625,19.237499999999997 (1.2620566441878927, 9.782318699877752)\n",
      "10 Ball1-x:-1.8490995168685913,y:-6.760023593902588 pocket-9.3625,0 (1.2363963894655827, 21.33230948530627)\n",
      "0 Ball1-x:-1.8490995168685913,y:-6.760023593902588 pocket-9.3625,-19.237499999999997 (1.2485684075366805, 16.787498382778455)\n",
      "0 Ball1-x:-1.8490995168685913,y:-6.760023593902588 pocket--9.3625,-19.237499999999997 (1.3186729365737586, 12.784005772033636)\n",
      "10 Ball1-x:-1.8490995168685913,y:-6.760023593902588 pocket--9.3625,0 (1.325059481330569, 18.652824732094242)\n",
      "10 Ball1-x:-1.8490995168685913,y:-6.760023593902588 pocket--9.3625,19.237499999999997 (1.2989554506375909, 7.0522850113063065)\n",
      "0 Ball2-x:-1.7283371686935425,y:18.222749710083008 pocket-9.3625,19.237499999999997 (0.9658270032412875, 0.0)\n",
      "10 Ball2-x:-1.7283371686935425,y:18.222749710083008 pocket-9.3625,0 (0.7502589826555732, 0.0)\n",
      "10 Ball2-x:-1.7283371686935425,y:18.222749710083008 pocket-9.3625,-19.237499999999997 (0.6179187991246982, 0.0)\n",
      "10 Ball2-x:-1.7283371686935425,y:18.222749710083008 pocket--9.3625,-19.237499999999997 (0.33072710907373093, 0.0)\n",
      "10 Ball2-x:-1.7283371686935425,y:18.222749710083008 pocket--9.3625,0 (0.20707364205014128, 0.0)\n",
      "10 Ball2-x:-1.7283371686935425,y:18.222749710083008 pocket--9.3625,19.237499999999997 (0.6077765745788783, 3.965108584132932e-08)\n",
      "10 Ball3-x:1.909499168395996,y:-6.499794960021973 pocket-9.3625,19.237499999999997 (1.4610484144736695, 10.370904893492868)\n",
      "10 Ball3-x:1.909499168395996,y:-6.499794960021973 pocket-9.3625,0 (1.4413852810799808, 21.02335530840322)\n",
      "2 Ball3-x:1.909499168395996,y:-6.499794960021973 pocket-9.3625,-19.237499999999997 (1.4668300461334904, 9.34545063038863)\n",
      "0 Ball3-x:1.909499168395996,y:-6.499794960021973 pocket--9.3625,-19.237499999999997 (1.5204804241118832, 19.1080968706979)\n",
      "10 Ball3-x:1.909499168395996,y:-6.499794960021973 pocket--9.3625,0 (1.5161390969639879, 19.59978999419471)\n",
      "10 Ball3-x:1.909499168395996,y:-6.499794960021973 pocket--9.3625,19.237499999999997 (1.4918816087235647, 6.585810477504661)\n",
      "10 Ball4-x:-7.390761375427246,y:16.580657958984375 pocket-9.3625,19.237499999999997 (1.3096513460343857, 0.7349232297666312)\n",
      "10 Ball4-x:-7.390761375427246,y:16.580657958984375 pocket-9.3625,0 (1.5063204732973063, 5.150283649864918)\n",
      "10 Ball4-x:-7.390761375427246,y:16.580657958984375 pocket-9.3625,-19.237499999999997 (1.555243522934929, 5.824815916568283)\n",
      "10 Ball4-x:-7.390761375427246,y:16.580657958984375 pocket--9.3625,-19.237499999999997 (1.5902285150009297, 5.563605944259318)\n",
      "10 Ball4-x:-7.390761375427246,y:16.580657958984375 pocket--9.3625,0 (1.5914059167626466, 5.42889834903016)\n",
      "0 Ball4-x:-7.390761375427246,y:16.580657958984375 pocket--9.3625,19.237499999999997 (1.033524951081924, 5.5256509763190405)\n",
      "0 Ball5-x:6.7370076179504395,y:16.481185913085938 pocket-9.3625,19.237499999999997 (1.5361197817810317, 7.3307801452189025)\n",
      "0 Ball5-x:6.7370076179504395,y:16.481185913085938 pocket-9.3625,0 (1.3161901260629676, 8.085952664030504)\n",
      "10 Ball5-x:6.7370076179504395,y:16.481185913085938 pocket-9.3625,-19.237499999999997 (1.31563935926051, 8.31489939453288)\n",
      "10 Ball5-x:6.7370076179504395,y:16.481185913085938 pocket--9.3625,-19.237499999999997 (1.3309574268588857, 8.433259160177235)\n",
      "10 Ball5-x:6.7370076179504395,y:16.481185913085938 pocket--9.3625,0 (1.3572279368714057, 7.272572754743105)\n",
      "10 Ball5-x:6.7370076179504395,y:16.481185913085938 pocket--9.3625,19.237499999999997 (1.4588945263523776, 0.28806430371543823)\n",
      "0 Ball6-x:2.8761515617370605,y:17.798540115356445 pocket-9.3625,19.237499999999997 (1.195826125948406, 1.4113762213164958)\n",
      "10 Ball6-x:2.8761515617370605,y:17.798540115356445 pocket-9.3625,0 (0.9203620457538018, 4.180911847829683)\n",
      "10 Ball6-x:2.8761515617370605,y:17.798540115356445 pocket-9.3625,-19.237499999999997 (0.9239172094336529, 4.46227623694269)\n",
      "10 Ball6-x:2.8761515617370605,y:17.798540115356445 pocket--9.3625,-19.237499999999997 (0.9719293139758504, 4.505067404295684)\n",
      "10 Ball6-x:2.8761515617370605,y:17.798540115356445 pocket--9.3625,0 (1.0181843570480358, 4.03443296366715)\n",
      "10 Ball6-x:2.8761515617370605,y:17.798540115356445 pocket--9.3625,19.237499999999997 (1.2381707368626147, 0.11636180273480294)\n"
     ]
    }
   ],
   "source": [
    "for mv in table.moves:\n",
    "    mv.CalcShotAngle()\n",
    "    mv.CheckValidity(table)\n",
    "    print(mv.valid,mv.target,mv.pocket,mv._PerpSegmentLength(table.balls['Ball2']))\n",
    "    "
   ]
  },
  {
   "cell_type": "code",
   "execution_count": 25,
   "metadata": {},
   "outputs": [
    {
     "data": {
      "text/plain": [
       "2"
      ]
     },
     "execution_count": 25,
     "metadata": {},
     "output_type": "execute_result"
    }
   ],
   "source": [
    "table.moves[15].cMove.valid"
   ]
  },
  {
   "cell_type": "code",
   "execution_count": 27,
   "metadata": {},
   "outputs": [
    {
     "name": "stdout",
     "output_type": "stream",
     "text": [
      "1\n",
      "2\n",
      "3\n",
      "4\n",
      "5\n",
      "6\n"
     ]
    }
   ],
   "source": [
    "for ball in table.balls.values():\n",
    "    print(ball.cBall.ballidx)"
   ]
  },
  {
   "cell_type": "code",
   "execution_count": null,
   "metadata": {},
   "outputs": [],
   "source": []
  }
 ],
 "metadata": {
  "kernelspec": {
   "display_name": "Python 3",
   "language": "python",
   "name": "python3"
  },
  "language_info": {
   "codemirror_mode": {
    "name": "ipython",
    "version": 3
   },
   "file_extension": ".py",
   "mimetype": "text/x-python",
   "name": "python",
   "nbconvert_exporter": "python",
   "pygments_lexer": "ipython3",
   "version": "3.8.3"
  }
 },
 "nbformat": 4,
 "nbformat_minor": 4
}
